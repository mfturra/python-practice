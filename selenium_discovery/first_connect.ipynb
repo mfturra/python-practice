{
 "cells": [
  {
   "cell_type": "markdown",
   "id": "7d69a747",
   "metadata": {},
   "source": [
    "# Connecting Selenium Web Driver to Workflow"
   ]
  },
  {
   "cell_type": "markdown",
   "id": "6eafb5ef",
   "metadata": {},
   "source": [
    "## Connecting Chrome Web Driver to Selenium Manually\n",
    "### Download Chrome driver manually\n",
    "1. [Download specific Chrome Driver](https://chromedriver.chromium.org/downloads) \n",
    "2. Paste URL into browser and unzip download\n",
    "    - Windows users need to give a .exe extension | Mac users don't need to give extension"
   ]
  },
  {
   "cell_type": "markdown",
   "id": "9175ea7e",
   "metadata": {},
   "source": [
    "#### Download Mozilla driver manually\n",
    "1. [Download specific Mozilla Driver](https://www.github.com/mozilla/geckodriver/releases)\n",
    "2. Paste URL into browser and unzip download\n",
    "    - Windows users need to give a .exe extension | Mac users don't need to give extension"
   ]
  },
  {
   "cell_type": "code",
   "execution_count": null,
   "id": "1c984bd7",
   "metadata": {},
   "outputs": [],
   "source": [
    "from selenium import webdriver\n",
    "from selenium.webdriver.chrome.service import Service\n",
    "\n",
    "# Give path of Chrome driver download\n",
    "service_obj = Service(\"path\")\n",
    "webdriver.chrome(service=service_obj)\n"
   ]
  },
  {
   "cell_type": "markdown",
   "id": "89777bc7",
   "metadata": {},
   "source": [
    "### Initiate Selenium Automated Web Driver Conenction to Chrome Browser\n",
    "- Selenium Chrome driver will interpret the needed webdriver and will interacts with Chrome browser\n",
    "- Selenium has a library of webdrivers for all Chrome drivers. Automated calls are established with the respective Chrome driver from their Chrome library to invoke the Chrome browser\n"
   ]
  },
  {
   "cell_type": "markdown",
   "id": "7befb718",
   "metadata": {},
   "source": [
    "#### Build Unittest Class with Specific Browser & URL"
   ]
  },
  {
   "cell_type": "code",
   "execution_count": 1,
   "id": "459b7a70",
   "metadata": {},
   "outputs": [
    {
     "name": "stderr",
     "output_type": "stream",
     "text": [
      "usage: ipykernel_launcher.py [-h] [-v] [-q] [--locals] [--durations N] [-f]\n",
      "                             [-c] [-b] [-k TESTNAMEPATTERNS]\n",
      "                             [tests ...]\n",
      "ipykernel_launcher.py: error: argument -f/--failfast: ignored explicit argument '/Users/matheusturra/Library/Jupyter/runtime/kernel-v347b991a6e944cf81afd38d726ef2bb7e00b80818.json'\n"
     ]
    },
    {
     "ename": "SystemExit",
     "evalue": "2",
     "output_type": "error",
     "traceback": [
      "An exception has occurred, use %tb to see the full traceback.\n",
      "\u001b[31mSystemExit\u001b[39m\u001b[31m:\u001b[39m 2\n"
     ]
    },
    {
     "name": "stderr",
     "output_type": "stream",
     "text": [
      "/Users/matheusturra/Documents/dev-ops/python-practice/.venv/lib/python3.13/site-packages/IPython/core/interactiveshell.py:3707: UserWarning: To exit: use 'exit', 'quit', or Ctrl-D.\n",
      "  warn(\"To exit: use 'exit', 'quit', or Ctrl-D.\", stacklevel=1)\n"
     ]
    }
   ],
   "source": [
    "import time\n",
    "import unittest\n",
    "from selenium import webdriver\n",
    "from selenium.webdriver.common.by import By\n",
    "\n",
    "\n",
    "class ChromeTestCase(unittest.TestCase):\n",
    "    # use webdriver to execute Chrome file\n",
    "    def setup(self):\n",
    "        self.driver = webdriver.Chrome()\n",
    "        self.addCleanup(self.driver.quit)\n",
    "\n",
    "        time.sleep(2)\n",
    "\n",
    "    # use webdriver to send get request to specific URL\n",
    "    def test_page_title(self):\n",
    "        self.driver.get(\"https://www.google.com\")\n",
    "        self.assertIn('Google', self.driver.title)\n",
    "        time.sleep(2)\n",
    "    \n",
    "    def test_page_login_id(self):\n",
    "        self.driver.find_element(By.CLASS_NAME, 'gb_A')\n",
    "        time.sleep(2)\n",
    "\n",
    "if __name__ == '__main__':\n",
    "    unittest.main(verbosity=2)\n",
    "\n",
    "# driver = webdriver.Chrome()\n",
    "\n",
    "# driver.get(\"https://learning.oreilly.com/home/\")"
   ]
  },
  {
   "cell_type": "code",
   "execution_count": null,
   "id": "d40eef40",
   "metadata": {},
   "outputs": [],
   "source": []
  }
 ],
 "metadata": {
  "kernelspec": {
   "display_name": ".venv",
   "language": "python",
   "name": "python3"
  },
  "language_info": {
   "codemirror_mode": {
    "name": "ipython",
    "version": 3
   },
   "file_extension": ".py",
   "mimetype": "text/x-python",
   "name": "python",
   "nbconvert_exporter": "python",
   "pygments_lexer": "ipython3",
   "version": "3.13.5"
  }
 },
 "nbformat": 4,
 "nbformat_minor": 5
}
