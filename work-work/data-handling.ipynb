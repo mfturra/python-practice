{
 "cells": [
  {
   "cell_type": "code",
   "execution_count": null,
   "metadata": {},
   "outputs": [],
   "source": [
    "# Import required modules\n",
    "import pandas as pd\n",
    "import glob2 # Finds all path names that match a specific pattern\n",
    "# from openpyxl import load_workbook\n",
    "import matplotlib.pyplot as plt\n",
    "import matplotlib.dates as mdates"
   ]
  },
  {
   "cell_type": "code",
   "execution_count": null,
   "metadata": {},
   "outputs": [],
   "source": [
    "# Specify paths to files\n",
    "master_path = r'C:\\Users\\MT1070\\Desktop\\Master Call Volume' #\\pilot-extracts'\n",
    "\n",
    "# Display names of files in folder\n",
    "file_names = glob2.glob(master_path + \"/*.xlsx\")\n",
    "\n",
    "# Initialize an empty data frame to store data from all files\n",
    "final_sheet = pd.DataFrame()"
   ]
  },
  {
   "cell_type": "code",
   "execution_count": null,
   "metadata": {},
   "outputs": [],
   "source": [
    "# Iteratively read data extracts and append them to the final DataFrame\n",
    "for file in file_names:\n",
    "    try:\n",
    "        df = pd.read_excel(file, sheet_name=None, skipfooter=2, engine='openpyxl')\n",
    "        df_concat = pd.concat(df.values(), ignore_index=True, sort=False)\n",
    "        final_sheet = final_sheet.append(df_concat, ignore_index=True)\n",
    "    except Exception as e:\n",
    "        print(f\"Error occurred while processing file: {file}\")\n",
    "        print(str(e))"
   ]
  },
  {
   "cell_type": "code",
   "execution_count": null,
   "metadata": {},
   "outputs": [],
   "source": [
    "# Read Speech data set and combine in excel file \n",
    "speech_report_path = r'C:\\Users\\MT1070\\Desktop\\Master Call Volume\\speech-report-extracts'\n",
    "speech_report_extracts = glob2.glob(speech_report_path + \"/*.xlsx\")\n",
    "\n",
    "\n",
    "# Iteratively read additional files and merge new columns to the existing DataFrame\n",
    "for additional_file in speech_report_extracts:\n",
    "    try:\n",
    "        df_additional = pd.read_excel(additional_file, sheet_name=None, skipfooter=2, engine='openpyxl')\n",
    "        df_concat_additional = pd.concat(df_additional.values(), ignore_index=True, sort=False)\n",
    "        final_sheet = pd.concat([final_sheet, df_concat_additional], axis=0)\n",
    "    except Exception as e:\n",
    "        print(f\"Error occurred while processing additional file: {additional_file}\")\n",
    "        print(str(e))\n",
    "        print(\"Error row:\")\n",
    "        print(df_additional)\n",
    "\n",
    "        \n",
    "# Reset index to use data col\n",
    "final_sheet.reset_index(drop=True, inplace=True)\n",
    "# final_sheet.head()"
   ]
  },
  {
   "cell_type": "code",
   "execution_count": null,
   "metadata": {},
   "outputs": [],
   "source": [
    "# Combine data into a new Excel file\n",
    "master_file_path = r\"C:\\Users\\MT1070\\Desktop\\Master Call Volume\\SpinSci Call Volume Evaluation.xlsx\"\n",
    "final_sheet.to_excel(master_file_path, sheet_name='Raw Data', index=False)"
   ]
  },
  {
   "cell_type": "code",
   "execution_count": null,
   "metadata": {},
   "outputs": [],
   "source": [
    "# final_sheet.head()"
   ]
  },
  {
   "cell_type": "code",
   "execution_count": null,
   "metadata": {},
   "outputs": [],
   "source": [
    "# Specify paths to files\n",
    "file_path = r'C:\\Users\\MT1070\\Desktop\\Master Call Volume\\SpinSci Call Volume Evaluation.xlsx'\n",
    "\n",
    "# Read file and skip the first row\n",
    "df = pd.read_excel(file_path, skiprows=[0])"
   ]
  },
  {
   "cell_type": "code",
   "execution_count": null,
   "metadata": {},
   "outputs": [],
   "source": [
    "# Reformat date col and Remove rows where \"date\" is present in the \"date\" column\n",
    "# data = df[~df['date'].str.contains('date', case=False, na=False)]\n",
    "data = df[~df['date'].str.contains('date', case=False, na=False)]\n",
    "data['date'] = pd.to_datetime(data['date'], format='%m/%d/%y', errors='coerce', exact=False, infer_datetime_format=True)\n",
    "\n",
    "# data['date'] = pd.to_datetime(data['date'], format='%m/%d/%y', errors='coerce', exact=False, infer_datetime_format=True).dt.date\n",
    "\n",
    "# Filter the data to include only dates within the year 2023\n",
    "# data.loc[data['date'].dt.year != 2023, 'date'] = data.loc[data['date'].dt.year != 2023, 'date'].apply(lambda x: x.replace(year=2023))\n",
    "data = data[data['date'].dt.year == 2023]\n",
    "\n",
    "# Extract the date component without the time slot\n",
    "data['date'] = data['date'].dt.date\n",
    "\n",
    "# Group the data set based on calendar date\n",
    "filtered_data = data.groupby(\"date\").sum()\n",
    "\n",
    "# Reset index to use data col\n",
    "filtered_data = filtered_data.reset_index()\n",
    "filtered_data.head()"
   ]
  },
  {
   "cell_type": "code",
   "execution_count": null,
   "metadata": {},
   "outputs": [],
   "source": [
    "# Create column by weekday\n",
    "filtered_data['weekday'] = filtered_data['date'].dt.dayofweek"
   ]
  },
  {
   "cell_type": "code",
   "execution_count": null,
   "metadata": {},
   "outputs": [],
   "source": [
    "# Plotting internal, external, and call transfers call volumes overlayed\n",
    "# Creating subplots\n",
    "fig, axes = plt.subplots(figsize=(8, 6))\n",
    "\n",
    "# Plotting the first subplot\n",
    "line1, = axes.plot(filtered_data['date'], filtered_data['total_internal_calls'], label='Total Internal Calls')\n",
    "line2, = axes.plot(filtered_data['date'], filtered_data['total_external_calls'], label='Total External Calls') \n",
    "line3, = axes.plot(filtered_data['date'], filtered_data['total_calls_transfered'], label='Total Calls Transferred') \n",
    "\n",
    "axes.set_xlabel('Date')\n",
    "axes.set_ylabel('Number of Calls Handled')\n",
    "axes.set_title('Total Daily Calls Handled from 3/7 - 5/31')\n",
    "\n",
    "# Adjusting the x-axis tick labels\n",
    "plt.setp(axes.xaxis.get_majorticklabels(), rotation=45)\n",
    "\n",
    "# Add legend\n",
    "axes.legend(handles=[line1, line2, line3], loc='upper right')\n",
    "\n",
    "# Adjusting the spacing between subplots\n",
    "plt.tight_layout(pad=1.5)\n",
    "\n",
    "# Displaying the plots\n",
    "plt.show()"
   ]
  },
  {
   "cell_type": "code",
   "execution_count": null,
   "metadata": {},
   "outputs": [],
   "source": [
    "## Plot English and Spanish Language usage overlayed\n",
    "fig, axes = plt.subplots(figsize = (8, 6))\n",
    "\n",
    "# Plotting the first subplot\n",
    "line1, = axes.plot(filtered_data['date'], filtered_data['total_english_calls'], label='Total English Calls')\n",
    "line2, = axes.plot(filtered_data['date'], filtered_data['total_spanish_calls'], label='Total Spanish Calls') \n",
    "\n",
    "axes.set_xlabel('Date')\n",
    "axes.set_ylabel('Call Volume by Language Type')\n",
    "axes.set_title('English and Spanish Call Volume from 3/7 - 5/31')\n",
    "\n",
    "# Adjusting the x-axis tick labels\n",
    "plt.setp(axes.xaxis.get_majorticklabels(), rotation=45)\n",
    "\n",
    "# Add legend\n",
    "axes.legend(handles=[line1, line2, line3], loc='upper right')\n",
    "\n",
    "# Adjusting the spacing between subplots\n",
    "plt.tight_layout(pad=1.5)\n",
    "\n",
    "# Displaying the plots\n",
    "plt.show()"
   ]
  },
  {
   "cell_type": "code",
   "execution_count": null,
   "metadata": {},
   "outputs": [],
   "source": [
    "# Create table with the largest call handling since start of pilot.\n",
    "\n",
    "# Sort the filtered_data DataFrame by col in descending order and get the top 5 values\n",
    "top_col1_values = filtered_data.nlargest(5, 'total_internal_calls')\n",
    "top_col2_values = filtered_data.nlargest(5, 'total_external_calls')\n",
    "top_col3_values = filtered_data.nlargest(5, 'total_calls_transfered')\n",
    "\n",
    "# Create the output table\n",
    "output_table = pd.DataFrame({'Top 5 Peak Values (total_internal_calls)': top_col1_values['total_internal_calls'].values,\n",
    "                            'Top 5 Peak Values (total_external_calls)': top_col2_values['total_external_calls'].values,\n",
    "                            'Top 5 Peak Values (total_calls_transferred)': top_col3_values['total_calls_transfered'].values},\n",
    "                           index=top_col1_values['date'])\n",
    "\n",
    "# Display the output table\n",
    "print(output_table)"
   ]
  }
 ],
 "metadata": {
  "kernelspec": {
   "display_name": "base",
   "language": "python",
   "name": "python3"
  },
  "language_info": {
   "codemirror_mode": {
    "name": "ipython",
    "version": 3
   },
   "file_extension": ".py",
   "mimetype": "text/x-python",
   "name": "python",
   "nbconvert_exporter": "python",
   "pygments_lexer": "ipython3",
   "version": "3.9.12"
  },
  "orig_nbformat": 4
 },
 "nbformat": 4,
 "nbformat_minor": 2
}
