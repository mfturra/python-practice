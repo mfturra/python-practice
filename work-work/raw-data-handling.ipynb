{
 "cells": [
  {
   "attachments": {},
   "cell_type": "markdown",
   "metadata": {},
   "source": [
    "### Load modules and specify file path"
   ]
  },
  {
   "cell_type": "code",
   "execution_count": null,
   "metadata": {},
   "outputs": [],
   "source": [
    "# Import required modules\n",
    "import pandas as pd\n",
    "import glob2\n",
    "import re\n",
    "from openpyxl import load_workbook\n",
    "import matplotlib.pyplot as plt\n",
    "import matplotlib.dates as mdates\n",
    "\n",
    "# Specify paths to files\n",
    "raw_data_path = r'C:\\Users\\MT1070\\Desktop\\Master Call Volume\\raw-report-extracts' \n",
    "\n",
    "# Display names of files in master folder\n",
    "raw_files = glob2.glob(raw_data_path + \"/*.xlsx\")\n",
    "\n",
    "# Initialize an empty data frame to store data from all files\n",
    "final_sheet = pd.DataFrame()"
   ]
  },
  {
   "attachments": {},
   "cell_type": "markdown",
   "metadata": {},
   "source": [
    "### Read Data Set and Configure Entry Date "
   ]
  },
  {
   "cell_type": "code",
   "execution_count": null,
   "metadata": {},
   "outputs": [],
   "source": [
    "# Iteratively read data extracts from master files and append them to the final DataFrame\n",
    "data_frames = []  # Store DataFrames from master files\n",
    "for file in raw_files:\n",
    "    try:\n",
    "        df = pd.read_excel(file, sheet_name=None, skipfooter=2, engine='openpyxl')\n",
    "        df_concat = pd.concat(df.values(), ignore_index=True, sort=False)\n",
    "        data_frames.append(df_concat)\n",
    "    except Exception as e:\n",
    "        print(f\"Error occurred while processing file: {file}\")\n",
    "        print(str(e))"
   ]
  },
  {
   "attachments": {},
   "cell_type": "markdown",
   "metadata": {},
   "source": [
    "## Reset Index and Set Column Headers"
   ]
  },
  {
   "cell_type": "code",
   "execution_count": null,
   "metadata": {},
   "outputs": [],
   "source": [
    "if len(data_frames) > 0:\n",
    "    final_sheet = pd.concat(data_frames, ignore_index=True)\n",
    "\n",
    "# Set desired column as \n",
    "\n",
    "final_sheet.reset_index(drop=True, inplace=True)\n",
    "\n",
    "# Define headers\n",
    "final_sheet.columns = final_sheet.iloc[0]\n",
    "final_sheet = final_sheet[1:]\n"
   ]
  },
  {
   "cell_type": "code",
   "execution_count": null,
   "metadata": {},
   "outputs": [],
   "source": [
    "final_sheet['department_name']"
   ]
  },
  {
   "attachments": {},
   "cell_type": "markdown",
   "metadata": {},
   "source": [
    "### Extract Date from Datetime column"
   ]
  },
  {
   "cell_type": "code",
   "execution_count": null,
   "metadata": {},
   "outputs": [],
   "source": [
    "# Print the values in the \"datetime\" column\n",
    "column_name = 'datetime'\n",
    "if column_name.strip() in final_sheet.columns:\n",
    "    final_sheet[column_name.strip()] = pd.to_datetime(final_sheet[column_name.strip()], format='%m/%d/%y %I:%M:%S %p', errors='coerce')\n",
    "\n",
    "    # Check the data type of the \"datetime\" column after conversion\n",
    "    datetime_column = final_sheet[column_name.strip()]\n",
    "\n",
    "    # Create the 'date' column by extracting month/date/year values\n",
    "    final_sheet['date'] = final_sheet[column_name.strip()].dt.strftime('%m/%d/%Y')\n",
    "\n",
    "    # Print the datetime entries that cannot be parsed\n",
    "    invalid_entries = final_sheet[datetime_column.isna()][column_name.strip()]\n",
    "    print(f\"Invalid datetime entries:\")\n",
    "    print(invalid_entries)\n",
    "\n",
    "else:\n",
    "    print(f\"Column '{column_name.strip()}' not found in the DataFrame.\")\n"
   ]
  },
  {
   "attachments": {},
   "cell_type": "markdown",
   "metadata": {},
   "source": [
    "### Count Entries for Successful & Unsuccessful Calls Transferred"
   ]
  },
  {
   "cell_type": "code",
   "execution_count": null,
   "metadata": {},
   "outputs": [],
   "source": [
    "# Helpful Tools\n",
    "def eval_data_type(column):\n",
    "    data_types = column.apply(type).unique()\n",
    "    \n",
    "    # Print the list of data types found\n",
    "    print(\"Data types found in the column:\")\n",
    "    for data_type in data_types:\n",
    "        print(data_type)\n",
    "\n",
    "    # usage: eval_data_type(final_sheet['valid_department_transfers'])\n",
    "\n",
    "\n",
    "# Count Holistic Metrics\n",
    "total_internal_calls = final_sheet['internal_or_external'].str.count('10030').sum()\n",
    "total_external_calls = final_sheet['internal_or_external'].str.count('10040').sum()\n",
    "total_calls = total_internal_calls + total_external_calls\n",
    "\n",
    "output_holistic_metrics = False\n",
    "if output_holistic_metrics:\n",
    "    print(f\"Total number of internal calls: {total_internal_calls}\")\n",
    "    print(f\"Total number of external calls: {total_external_calls}\")\n",
    "    print(f\"Total number of calls: {total_calls}\\n\\n\")\n",
    "\n",
    "\n",
    "# Count number of successful workflows\n",
    "first_try_success = final_sheet['department_utternace_first_try_success'].count()\n",
    "second_try_success = final_sheet['department_utternace_second_try_success'].count()\n",
    "third_try_success = final_sheet['department_utternace_second_try_success'].count()\n",
    "total_success = first_try_success + second_try_success + third_try_success\n",
    "\n",
    "\n",
    "# Output Successful Counts\n",
    "output_successful_counts = True\n",
    "if output_successful_counts:\n",
    "    print(f\"Number of entries in First Try Success: {first_try_success}\")\n",
    "    print(f\"Number of entries in Second Try Success: {second_try_success}\")\n",
    "    print(f\"Number of entries in Third Try Success: {third_try_success}\")\n",
    "    print(f\"Total number of successful call transfers: {total_success}\\n\")\n",
    "\n",
    "\n",
    "# Count number of unsuccessful workflows\n",
    "first_nomatch = final_sheet['department_utternace_first_nomatch'].count()\n",
    "second_nomatch = final_sheet['department_utternace_second_nomatch'].count()\n",
    "third_nomatch = final_sheet['department_utternace_third_nomatch'].count()\n",
    "final_nomatch = final_sheet['department_utternace_max_nomatch'].count()\n",
    "total_nomatch = first_nomatch + second_nomatch + third_nomatch + final_nomatch\n",
    "\n",
    "# Output Usuccessful Counts\n",
    "output_unsuccessful_counts = False\n",
    "if output_unsuccessful_counts:\n",
    "    print(f\"Number of unsuccessful first try entries: {first_nomatch}\")\n",
    "    print(f\"Number of unsuccessful second try entries: {second_nomatch}\")\n",
    "    print(f\"Number of unsuccessful third try entries: {third_nomatch}\")\n",
    "    print(f\"Total number of unsuccessful calls: {total_nomatch}\")\n",
    "\n"
   ]
  },
  {
   "attachments": {},
   "cell_type": "markdown",
   "metadata": {},
   "source": [
    "### SpinSci Metrics Verification"
   ]
  },
  {
   "cell_type": "code",
   "execution_count": 265,
   "metadata": {},
   "outputs": [
    {
     "name": "stdout",
     "output_type": "stream",
     "text": [
      "Total number of Internal and External calls: 16536\n",
      "Number of successful transfers: 11411\n",
      "Number of unsuccessful transfers: 5125\n",
      "\n",
      "\n",
      "Call Volume Distribution of the 11411 Successfully Transferred Calls\n",
      "Total department requests: 3370\n",
      "Total number of callers selecting option 2: 2781\n",
      "Total number of callers selecting option 3: 2214\n",
      "Total number of callers selecting option 4: 317\n",
      "Total number of callers selecting option 5: 66\n",
      "Total number of callers selecting option 0: 1533\n",
      "Total number of callers verbally requesting Operator: 657\n",
      "Total number of call steering max fail values: 473 (Need to follow up on with SpinSci)\n",
      "\n",
      "\n",
      "Total number of SpinSci ID'd successful call transfers: 11411\n",
      "Percentage of successful calls transfered: 69%\n",
      "Calc. Percentage of successful calls transfered: 26%\n",
      "\n",
      "\n",
      "Definition of Automation Rate: Total Number of Calls Successfully Transferred by Call Steering AI divided by Total Number of Calls\n",
      "Calculated automation rate: 20%\n",
      "Calculated automation rate including call steering max fail values: 23%\n"
     ]
    }
   ],
   "source": [
    "# SpinSci Metric Verification\n",
    "# What to expect from the dataset\n",
    "# eval_data_type(final_sheet['call_transfer_success'])\n",
    "\n",
    "# Count Successful and Unsuccessful Calls\n",
    "spinsci_success_count = int(final_sheet['call_transfer_success'].str.count('10050').sum())\n",
    "non_transfers = final_sheet['call_transfer_success'].isna().sum()\n",
    "verify_with_total_calls = spinsci_success_count + non_transfers\n",
    "\n",
    "# Output results\n",
    "print(f\"Total number of Internal and External calls: {total_calls}\")\n",
    "output_calc_total_calls = False\n",
    "if output_calc_total_calls:\n",
    "    print(f\"Calculated total number of calls: {verify_with_total_calls}\")\n",
    "\n",
    "print(f\"Number of successful transfers: {spinsci_success_count}\")\n",
    "print(f\"Number of unsuccessful transfers: {non_transfers}\\n\\n\")\n",
    "\n",
    "# Extract dataframe with metrics of all successful calls\n",
    "success_filter = final_sheet['call_transfer_success'].str.contains('10050') & final_sheet['call_transfer_success'].notna()\n",
    "successful_calls = final_sheet[success_filter].copy()\n",
    "\n",
    "\n",
    "# Count the number of Operator requests\n",
    "option2_name = '(menuoption2)'\n",
    "option3_name = 'Patient Information'\n",
    "option4_name = '(menuoption4)'\n",
    "option5_name = '(menuoption5)'\n",
    "option0_name = '(press 0)'\n",
    "call_steering_max_fail = '(call steering max fail)'\n",
    "\n",
    "\n",
    "\n",
    "# Apply the pattern using str.contains and count the number of matches\n",
    "verbal_operator_request = successful_calls['department_name'].str.contains(trailing_operator_pattern, flags=re.IGNORECASE, regex=True).sum()\n",
    "\n",
    "option2_selection = successful_calls['department_name'].str.count(option2_name).sum()\n",
    "option3_selection = successful_calls['department_name'].str.count(option3_name).sum()\n",
    "option4_selection = successful_calls['department_name'].str.count(option4_name).sum()\n",
    "option5_selection = successful_calls['department_name'].str.count(option5_name).sum()\n",
    "option0_selection = successful_calls['department_name'].str.count(option0_name).sum()\n",
    "call_steering_max_selection = successful_calls['department_name'].str.count(call_steering_max_fail).sum()\n",
    "\n",
    "\n",
    "# Count 'Operator' matches that disregards other values and characters\n",
    "trailing_operator_pattern = r'^operator(?!.*\\(.*\\))'\n",
    "verbal_operator_selection = successful_calls['department_name'].str.contains(trailing_operator_pattern, flags=re.IGNORECASE, regex=True).sum() \n",
    "\n",
    "\n",
    "# Count the number of department transfer requests\n",
    "# Joining all options together to create an organized list\n",
    "unwanted_department_names = ['Operator', 'menuoption','Patient Information', 'Directions']\n",
    "\n",
    "# department_requests = successful_calls['department_name'].str([option2_name]).sum()\n",
    "options_list_pattern = '|'.join(unwanted_department_names)\n",
    "\n",
    "# Search and count the number of matches\n",
    "department_requests = (~successful_calls['department_name'].str.contains(options_list_pattern, flags=re.IGNORECASE, regex=True)).sum()\n",
    "\n",
    "output_selection_metrics = True\n",
    "if output_selection_metrics:\n",
    "    print(f\"Call Volume Distribution of the {spinsci_success_count} Successfully Transferred Calls\")\n",
    "    print(f\"Total department requests: {department_requests}\")\n",
    "    print(f\"Total number of callers selecting option 2: {option2_selection}\")\n",
    "    print(f\"Total number of callers selecting option 3: {option3_selection}\")\n",
    "    print(f\"Total number of callers selecting option 4: {option4_selection}\")\n",
    "    print(f\"Total number of callers selecting option 5: {option5_selection}\")\n",
    "    print(f\"Total number of callers selecting option 0: {option0_selection}\")\n",
    "    print(f\"Total number of callers verbally requesting Operator: {verbal_operator_selection}\")\n",
    "    print(f\"Total number of call steering max fail values: {call_steering_max_selection} (Need to follow up on with SpinSci)\\n\\n\")\n",
    "\n",
    "# Take the summation of all types of requests and compare to total_calls\n",
    "verify_requests_total = False\n",
    "if verify_requests_total:\n",
    "    requests_total = option2_selection + option3_selection + option4_selection + option5_selection + option0_selection + call_steering_max_selection + verbal_operator_selection + department_requests\n",
    "    print(f\"Total number of calls based on call breakdown: {requests_total}\")\n",
    "\n",
    "\n",
    "spinsci_calc_metrics = True\n",
    "if spinsci_calc_metrics:\n",
    "    spinsci_percent_success_transfers = int((spinsci_success_count/total_calls)*100)\n",
    "    calc_percent_success = int((total_success/total_calls)*100) # first - third try metrics\n",
    "    general_automation_rate = int((department_requests/total_calls)*100)\n",
    "    general_automation_rate_w_call_steering = int(((department_requests + call_steering_max_selection) /total_calls)*100)\n",
    "\n",
    "\n",
    "    print(f\"Total number of SpinSci ID'd successful call transfers: {spinsci_success_count}\")\n",
    "    print(f\"Percentage of successful calls transfered: {spinsci_percent_success_transfers}%\")\n",
    "    print(f\"Calc. Percentage of successful calls transfered: {calc_percent_success}%\\n\\n\")\n",
    "    \n",
    "    print(\"Definition of Automation Rate: Total Number of Calls Successfully Transferred by Call Steering AI divided by Total Number of Calls\")\n",
    "    print(f\"Calculated automation rate: {automation_rate}%\")\n",
    "    print(f\"Calculated automation rate including call steering max fail values: {automation_rate_w_call_steering}%\")\n"
   ]
  },
  {
   "attachments": {},
   "cell_type": "markdown",
   "metadata": {},
   "source": [
    "### Internal and External Automation Rate Calculations"
   ]
  },
  {
   "cell_type": "code",
   "execution_count": 274,
   "metadata": {},
   "outputs": [
    {
     "ename": "TypeError",
     "evalue": "unsupported operand type(s) for &: 'int' and 'float'",
     "output_type": "error",
     "traceback": [
      "\u001b[1;31m---------------------------------------------------------------------------\u001b[0m",
      "\u001b[1;31mTypeError\u001b[0m                                 Traceback (most recent call last)",
      "File \u001b[1;32mc:\\Users\\MT1070\\Anaconda3\\lib\\site-packages\\pandas\\core\\ops\\array_ops.py:301\u001b[0m, in \u001b[0;36mna_logical_op\u001b[1;34m(x, y, op)\u001b[0m\n\u001b[0;32m    292\u001b[0m \u001b[39mtry\u001b[39;00m:\n\u001b[0;32m    293\u001b[0m     \u001b[39m# For exposition, write:\u001b[39;00m\n\u001b[0;32m    294\u001b[0m     \u001b[39m#  yarr = isinstance(y, np.ndarray)\u001b[39;00m\n\u001b[1;32m   (...)\u001b[0m\n\u001b[0;32m    299\u001b[0m     \u001b[39m# Then Cases where this goes through without raising include:\u001b[39;00m\n\u001b[0;32m    300\u001b[0m     \u001b[39m#  (xint or xbool) and (yint or bool)\u001b[39;00m\n\u001b[1;32m--> 301\u001b[0m     result \u001b[39m=\u001b[39m op(x, y)\n\u001b[0;32m    302\u001b[0m \u001b[39mexcept\u001b[39;00m \u001b[39mTypeError\u001b[39;00m:\n",
      "\u001b[1;31mTypeError\u001b[0m: unsupported operand type(s) for &: 'int' and 'float'",
      "\nDuring handling of the above exception, another exception occurred:\n",
      "\u001b[1;31mTypeError\u001b[0m                                 Traceback (most recent call last)",
      "\u001b[1;32mc:\\Users\\MT1070\\Mass General Brigham\\MTurra Internal - General\\Project Managing\\python-practice\\work-work\\raw-data-handling.ipynb Cell 15\u001b[0m in \u001b[0;36m<cell line: 3>\u001b[1;34m()\u001b[0m\n\u001b[0;32m      <a href='vscode-notebook-cell:/c%3A/Users/MT1070/Mass%20General%20Brigham/MTurra%20Internal%20-%20General/Project%20Managing/python-practice/work-work/raw-data-handling.ipynb#X51sZmlsZQ%3D%3D?line=0'>1</a>\u001b[0m \u001b[39m# Calc of Count of Internally Successfully Transferred Calls\u001b[39;00m\n\u001b[0;32m      <a href='vscode-notebook-cell:/c%3A/Users/MT1070/Mass%20General%20Brigham/MTurra%20Internal%20-%20General/Project%20Managing/python-practice/work-work/raw-data-handling.ipynb#X51sZmlsZQ%3D%3D?line=1'>2</a>\u001b[0m overall_internal_auto_count \u001b[39m=\u001b[39m successful_calls[\u001b[39m'\u001b[39m\u001b[39minternal_or_external\u001b[39m\u001b[39m'\u001b[39m]\u001b[39m.\u001b[39mstr\u001b[39m.\u001b[39mcount(\u001b[39m'\u001b[39m\u001b[39m10030\u001b[39m\u001b[39m'\u001b[39m)\u001b[39m.\u001b[39msum()\n\u001b[1;32m----> <a href='vscode-notebook-cell:/c%3A/Users/MT1070/Mass%20General%20Brigham/MTurra%20Internal%20-%20General/Project%20Managing/python-practice/work-work/raw-data-handling.ipynb#X51sZmlsZQ%3D%3D?line=2'>3</a>\u001b[0m internal_first_try_success_2nd \u001b[39m=\u001b[39m successful_calls[\u001b[39m'\u001b[39;49m\u001b[39minternal_or_external\u001b[39;49m\u001b[39m'\u001b[39;49m]\u001b[39m.\u001b[39;49mstr\u001b[39m.\u001b[39;49mcount(\u001b[39m'\u001b[39;49m\u001b[39m10030\u001b[39;49m\u001b[39m'\u001b[39;49m) \u001b[39m&\u001b[39;49m successful_calls[\u001b[39m'\u001b[39;49m\u001b[39mdepartment_utternace_first_try_success\u001b[39;49m\u001b[39m'\u001b[39;49m]\u001b[39m.\u001b[39;49mstr\u001b[39m.\u001b[39;49mcount(\u001b[39m'\u001b[39;49m\u001b[39m31110\u001b[39;49m\u001b[39m'\u001b[39;49m)\n\u001b[0;32m      <a href='vscode-notebook-cell:/c%3A/Users/MT1070/Mass%20General%20Brigham/MTurra%20Internal%20-%20General/Project%20Managing/python-practice/work-work/raw-data-handling.ipynb#X51sZmlsZQ%3D%3D?line=3'>4</a>\u001b[0m \u001b[39m# internal_first_try_success_loc = successful_calls.loc[successful_calls['internal_or_external'].str.contains('10030', case=False, na=False) & successful_calls['department_utternace_first_try_success'].astype(str).str.contains('31110'), 'department_utternace_first_try_success']\u001b[39;00m\n\u001b[0;32m      <a href='vscode-notebook-cell:/c%3A/Users/MT1070/Mass%20General%20Brigham/MTurra%20Internal%20-%20General/Project%20Managing/python-practice/work-work/raw-data-handling.ipynb#X51sZmlsZQ%3D%3D?line=4'>5</a>\u001b[0m \u001b[39m# internal_first_try_success_2nd = successful_calls.loc[successful_calls['internal_or_external'].str.contains('10030', case=False, na=False) & successful_calls['department_utternace_first_try_success'].astype(str).str.contains('31110'), 'department_utternace_first_try_success']\u001b[39;00m\n\u001b[0;32m      <a href='vscode-notebook-cell:/c%3A/Users/MT1070/Mass%20General%20Brigham/MTurra%20Internal%20-%20General/Project%20Managing/python-practice/work-work/raw-data-handling.ipynb#X51sZmlsZQ%3D%3D?line=7'>8</a>\u001b[0m internal_first_try_success_count \u001b[39m=\u001b[39m internal_first_try_success_2nd\u001b[39m.\u001b[39msum()\n",
      "File \u001b[1;32mc:\\Users\\MT1070\\Anaconda3\\lib\\site-packages\\pandas\\core\\ops\\common.py:70\u001b[0m, in \u001b[0;36m_unpack_zerodim_and_defer.<locals>.new_method\u001b[1;34m(self, other)\u001b[0m\n\u001b[0;32m     66\u001b[0m             \u001b[39mreturn\u001b[39;00m \u001b[39mNotImplemented\u001b[39m\n\u001b[0;32m     68\u001b[0m other \u001b[39m=\u001b[39m item_from_zerodim(other)\n\u001b[1;32m---> 70\u001b[0m \u001b[39mreturn\u001b[39;00m method(\u001b[39mself\u001b[39;49m, other)\n",
      "File \u001b[1;32mc:\\Users\\MT1070\\Anaconda3\\lib\\site-packages\\pandas\\core\\arraylike.py:70\u001b[0m, in \u001b[0;36mOpsMixin.__and__\u001b[1;34m(self, other)\u001b[0m\n\u001b[0;32m     68\u001b[0m \u001b[39m@unpack_zerodim_and_defer\u001b[39m(\u001b[39m\"\u001b[39m\u001b[39m__and__\u001b[39m\u001b[39m\"\u001b[39m)\n\u001b[0;32m     69\u001b[0m \u001b[39mdef\u001b[39;00m \u001b[39m__and__\u001b[39m(\u001b[39mself\u001b[39m, other):\n\u001b[1;32m---> 70\u001b[0m     \u001b[39mreturn\u001b[39;00m \u001b[39mself\u001b[39;49m\u001b[39m.\u001b[39;49m_logical_method(other, operator\u001b[39m.\u001b[39;49mand_)\n",
      "File \u001b[1;32mc:\\Users\\MT1070\\Anaconda3\\lib\\site-packages\\pandas\\core\\series.py:5634\u001b[0m, in \u001b[0;36mSeries._logical_method\u001b[1;34m(self, other, op)\u001b[0m\n\u001b[0;32m   5631\u001b[0m lvalues \u001b[39m=\u001b[39m \u001b[39mself\u001b[39m\u001b[39m.\u001b[39m_values\n\u001b[0;32m   5632\u001b[0m rvalues \u001b[39m=\u001b[39m extract_array(other, extract_numpy\u001b[39m=\u001b[39m\u001b[39mTrue\u001b[39;00m, extract_range\u001b[39m=\u001b[39m\u001b[39mTrue\u001b[39;00m)\n\u001b[1;32m-> 5634\u001b[0m res_values \u001b[39m=\u001b[39m ops\u001b[39m.\u001b[39;49mlogical_op(lvalues, rvalues, op)\n\u001b[0;32m   5635\u001b[0m \u001b[39mreturn\u001b[39;00m \u001b[39mself\u001b[39m\u001b[39m.\u001b[39m_construct_result(res_values, name\u001b[39m=\u001b[39mres_name)\n",
      "File \u001b[1;32mc:\\Users\\MT1070\\Anaconda3\\lib\\site-packages\\pandas\\core\\ops\\array_ops.py:391\u001b[0m, in \u001b[0;36mlogical_op\u001b[1;34m(left, right, op)\u001b[0m\n\u001b[0;32m    387\u001b[0m \u001b[39m# For int vs int `^`, `|`, `&` are bitwise operators and return\u001b[39;00m\n\u001b[0;32m    388\u001b[0m \u001b[39m#   integer dtypes.  Otherwise these are boolean ops\u001b[39;00m\n\u001b[0;32m    389\u001b[0m filler \u001b[39m=\u001b[39m fill_int \u001b[39mif\u001b[39;00m is_self_int_dtype \u001b[39mand\u001b[39;00m is_other_int_dtype \u001b[39melse\u001b[39;00m fill_bool\n\u001b[1;32m--> 391\u001b[0m res_values \u001b[39m=\u001b[39m na_logical_op(lvalues, rvalues, op)\n\u001b[0;32m    392\u001b[0m \u001b[39m# error: Cannot call function of unknown type\u001b[39;00m\n\u001b[0;32m    393\u001b[0m res_values \u001b[39m=\u001b[39m filler(res_values)  \u001b[39m# type: ignore[operator]\u001b[39;00m\n",
      "File \u001b[1;32mc:\\Users\\MT1070\\Anaconda3\\lib\\site-packages\\pandas\\core\\ops\\array_ops.py:308\u001b[0m, in \u001b[0;36mna_logical_op\u001b[1;34m(x, y, op)\u001b[0m\n\u001b[0;32m    306\u001b[0m     x \u001b[39m=\u001b[39m ensure_object(x)\n\u001b[0;32m    307\u001b[0m     y \u001b[39m=\u001b[39m ensure_object(y)\n\u001b[1;32m--> 308\u001b[0m     result \u001b[39m=\u001b[39m libops\u001b[39m.\u001b[39;49mvec_binop(x\u001b[39m.\u001b[39;49mravel(), y\u001b[39m.\u001b[39;49mravel(), op)\n\u001b[0;32m    309\u001b[0m \u001b[39melse\u001b[39;00m:\n\u001b[0;32m    310\u001b[0m     \u001b[39m# let null fall thru\u001b[39;00m\n\u001b[0;32m    311\u001b[0m     \u001b[39massert\u001b[39;00m lib\u001b[39m.\u001b[39mis_scalar(y)\n",
      "File \u001b[1;32mc:\\Users\\MT1070\\Anaconda3\\lib\\site-packages\\pandas\\_libs\\ops.pyx:252\u001b[0m, in \u001b[0;36mpandas._libs.ops.vec_binop\u001b[1;34m()\u001b[0m\n",
      "File \u001b[1;32mc:\\Users\\MT1070\\Anaconda3\\lib\\site-packages\\pandas\\_libs\\ops.pyx:245\u001b[0m, in \u001b[0;36mpandas._libs.ops.vec_binop\u001b[1;34m()\u001b[0m\n",
      "\u001b[1;31mTypeError\u001b[0m: unsupported operand type(s) for &: 'int' and 'float'"
     ]
    }
   ],
   "source": [
    "# Calc of Count of Internally Successfully Transferred Calls\n",
    "overall_internal_auto_count = successful_calls['internal_or_external'].str.count('10030').sum()\n",
    "internal_first_try_success_2nd = successful_calls['internal_or_external'].str.count('10030') & successful_calls['department_utternace_first_try_success'].str.count('31110')\n",
    "# internal_first_try_success_loc = successful_calls.loc[successful_calls['internal_or_external'].str.contains('10030', case=False, na=False) & successful_calls['department_utternace_first_try_success'].astype(str).str.contains('31110'), 'department_utternace_first_try_success']\n",
    "# internal_first_try_success_2nd = successful_calls.loc[successful_calls['internal_or_external'].str.contains('10030', case=False, na=False) & successful_calls['department_utternace_first_try_success'].astype(str).str.contains('31110'), 'department_utternace_first_try_success']\n",
    "\n",
    "\n",
    "internal_first_try_success_count = internal_first_try_success_2nd.sum()\n",
    "\n",
    "# Calc of Count of Externally Successfully Transferred Calls\n",
    "overall_external_auto_count = successful_calls['internal_or_external'].str.count('10040').sum()\n",
    "\n",
    "# Output of Count of Successfully Transferred Calls\n",
    "print(f\"Number of successfully transferred internal calls: {overall_internal_auto_count}\")\n",
    "print(f\"Number of successfully transferred external calls: {overall_external_auto_count}\")\n",
    "print(f\"Number of internal calls with first attempt transfer: {internal_first_try_success_count}\")\n",
    "\n",
    "# Calc of Internal and External Automation Rate\n",
    "overall_internal_auto_rate = int((overall_internal_auto_count/total_calls)*100)\n",
    "overall_external_auto_rate = int((overall_external_auto_count/total_calls)*100)\n",
    "\n",
    "\n",
    "# Output of Automation Rate\n",
    "print(f\"Overall internal automation rate: {overall_internal_auto_rate}%\")\n",
    "print(f\"Overall external automation rate: {overall_external_auto_rate}%\")\n",
    "print(f\"Total Number of Calls: {total_calls}\")"
   ]
  },
  {
   "attachments": {},
   "cell_type": "markdown",
   "metadata": {},
   "source": [
    "## SpinSci Call Transfer Breakdown"
   ]
  },
  {
   "cell_type": "code",
   "execution_count": null,
   "metadata": {},
   "outputs": [],
   "source": [
    "table_column = ['Metrics', 'Call Volume']\n",
    "table_rows = ['Total Calls (Internal/External)', 'Total Internal Calls', 'Total External Calls']\n",
    "table_values = [total_calls, total_internal_calls, total_external_calls]\n",
    "print(table_values)\n",
    "\n",
    "# Create an empty DataFrame with the specified columns and rows\n",
    "call_transfer_table = pd.DataFrame(columns=table_column, index=table_rows)\n",
    "\n",
    "for row in table_rows:\n",
    "    for column in table_column:\n",
    "        value_list = table_values\n",
    "        value = table_values.pop(0)\n",
    "\n",
    "        # Set the value in the DataFrame\n",
    "        call_transfer_table.loc[row, column] = value\n",
    "\n",
    "print(call_transfer_table)"
   ]
  },
  {
   "attachments": {},
   "cell_type": "markdown",
   "metadata": {},
   "source": [
    "### Review Datatypes in department_name column"
   ]
  },
  {
   "cell_type": "code",
   "execution_count": null,
   "metadata": {},
   "outputs": [],
   "source": [
    "float_values = final_sheet.loc[final_sheet['department_name'].apply(lambda x: isinstance(x, float)), 'department_name']\n",
    "\n",
    "print(\"Float values in the column:\")\n",
    "print(float_values)"
   ]
  },
  {
   "attachments": {},
   "cell_type": "markdown",
   "metadata": {},
   "source": [
    "### Change department_name entries format"
   ]
  },
  {
   "cell_type": "code",
   "execution_count": null,
   "metadata": {},
   "outputs": [],
   "source": [
    "# String manipulation to modify department_name entries\n",
    "count_department_tranfers = final_sheet['department_name'].count()\n",
    "print(f\"The total number entries in Department Name column: {count_department_tranfers}\\n\")\n",
    "print(\"Breakdown of Department Transfers Column:\")\n",
    "\n",
    "# Count the number of NaN entries in department_name\n",
    "print(f\"Total number of calls: {total_calls}\\n\\n\")\n",
    "nonconclusive_transfers = final_sheet['department_name'].isna().sum()\n",
    "print(f\"Number of non-transfers: {nonconclusive_transfers}\")\n",
    "\n",
    "# Create a new column with non-NaN entries from 'column_name'\n",
    "final_sheet['valid_department_transfers'] = final_sheet['department_name'].fillna('')\n",
    "\n",
    "# Change department_name to str type\n",
    "final_sheet['valid_department_transfers'] = final_sheet['valid_department_transfers'].astype(str)\n",
    "# dtype = final_sheet['valid_department_transfers'].dtype\n",
    "# print(f\"The format for department_name column: {dtype}\")\n",
    "\n",
    "# Count number of entries without \"Operator\"\n",
    "count_non_operator = final_sheet['valid_department_transfers'].str.contains('Operator', case=False, na=False).sum()\n",
    "# count_no\n",
    "\n",
    "print(f\"Number of requests that are not the Operator {count_non_operator}\")\n",
    "\n",
    "# Print the DataFrame to see the updated column\n",
    "# print(final_sheet['valid_department_transfers'])\n",
    "\n",
    "\n",
    "operator_selections = final_sheet['valid_department_transfers'].str.count('Operator').sum()\n",
    "print(f\"Total number of Operator Selections: {operator_selections}\\n\\n\")\n",
    "# misc_selection = final_sheet['department_name'].str.count('Operator(press 0)').sum()\n",
    "# count_department_tranfers = final_sheet['department_name'].count()\n",
    "\n",
    "\n",
    "# Department Column Transfer Check. Total same as spinsci_success_count\n",
    "# final_sheet['department_name'] = final_sheet['department_name'].astype('str')\n",
    "\n",
    "    # Verify the data type of entries in the target column\n",
    "# print(final_sheet['department_name'].dtype)\n",
    "\n",
    "# unique_values = final_sheet['department_name'].unique()\n",
    "# print(unique_values)"
   ]
  },
  {
   "attachments": {},
   "cell_type": "markdown",
   "metadata": {},
   "source": [
    "### Graveyard"
   ]
  },
  {
   "attachments": {},
   "cell_type": "markdown",
   "metadata": {},
   "source": [
    "### Locate Invalid Entries "
   ]
  },
  {
   "cell_type": "code",
   "execution_count": null,
   "metadata": {},
   "outputs": [],
   "source": [
    "column_name = 'datetime'\n",
    "if column_name.strip() in final_sheet.columns:\n",
    "    final_sheet[column_name.strip()] = pd.to_datetime(final_sheet[column_name.strip()], format='%m/%d/%y %I:%M:%S %p', errors='coerce')\n",
    "\n",
    "    # Check the data type of the \"datetime\" column after conversion\n",
    "    datetime_column = final_sheet[column_name.strip()]\n",
    "    data_type = datetime_column.dtype\n",
    "    print(f\"The data type of elements in the '{column_name}' column after conversion is: {data_type}\")\n",
    "\n",
    "    # Print the datetime entries that cannot be parsed\n",
    "    invalid_entries = final_sheet[datetime_column.isna()][column_name.strip()]\n",
    "    print(f\"Invalid datetime entries:\")\n",
    "    print(invalid_entries)\n",
    "\n",
    "# Utilize the output of the script above to find the NaN values.\n",
    "index_value = 2978\n",
    "print(final_sheet.iloc[index_value])"
   ]
  },
  {
   "cell_type": "code",
   "execution_count": null,
   "metadata": {},
   "outputs": [],
   "source": [
    "def convert_to_datetime(df, column_name):\n",
    "    if column_name in df.columns:\n",
    "        if column_name == 'datetime':\n",
    "            try:\n",
    "                df['Date'] = df[column_name].dt.date\n",
    "                # df[column_name] = pd.to_datetime(df[column_name], format='%m/%d/%y %I:%M:%S %p')\n",
    "                return df\n",
    "            except ValueError:\n",
    "                print(f\"Invalid datetime format in column {column_name}:\")\n",
    "                print(df[column_name])\n",
    "        else:\n",
    "            df[column_name] = pd.to_datetime(df[column_name], format='%m/%d/%y %I:%M:%S %p')\n",
    "            return df\n",
    "    else:\n",
    "        print(f\"Column '{column_name} not found in Dataframe.\")\n",
    "        return None\n",
    "    \n",
    "final_sheet = convert_to_datetime(final_sheet, 'datetime')\n",
    "\n",
    "# print(final_sheet)"
   ]
  },
  {
   "cell_type": "code",
   "execution_count": null,
   "metadata": {},
   "outputs": [],
   "source": []
  }
 ],
 "metadata": {
  "kernelspec": {
   "display_name": "base",
   "language": "python",
   "name": "python3"
  },
  "language_info": {
   "codemirror_mode": {
    "name": "ipython",
    "version": 3
   },
   "file_extension": ".py",
   "mimetype": "text/x-python",
   "name": "python",
   "nbconvert_exporter": "python",
   "pygments_lexer": "ipython3",
   "version": "3.9.12"
  },
  "orig_nbformat": 4
 },
 "nbformat": 4,
 "nbformat_minor": 2
}
