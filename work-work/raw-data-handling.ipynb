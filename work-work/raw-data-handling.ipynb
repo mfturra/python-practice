{
 "cells": [
  {
   "attachments": {},
   "cell_type": "markdown",
   "metadata": {},
   "source": [
    "### Load modules and specify file path"
   ]
  },
  {
   "cell_type": "code",
   "execution_count": null,
   "metadata": {},
   "outputs": [],
   "source": [
    "# Import required modules\n",
    "import pandas as pd\n",
    "import glob2\n",
    "from openpyxl import load_workbook\n",
    "import matplotlib.pyplot as plt\n",
    "import matplotlib.dates as mdates\n",
    "\n",
    "# Specify paths to files\n",
    "raw_data_path = r'C:\\Users\\MT1070\\Desktop\\Master Call Volume\\raw-report-extracts' \n",
    "\n",
    "# Display names of files in master folder\n",
    "raw_files = glob2.glob(raw_data_path + \"/*.xlsx\")\n",
    "\n",
    "# Initialize an empty data frame to store data from all files\n",
    "final_sheet = pd.DataFrame()"
   ]
  },
  {
   "attachments": {},
   "cell_type": "markdown",
   "metadata": {},
   "source": [
    "### Read Data Set and Configure Entry Date "
   ]
  },
  {
   "cell_type": "code",
   "execution_count": null,
   "metadata": {},
   "outputs": [],
   "source": [
    "# Iteratively read data extracts from master files and append them to the final DataFrame\n",
    "data_frames = []  # Store DataFrames from master files\n",
    "for file in raw_files:\n",
    "    try:\n",
    "        df = pd.read_excel(file, sheet_name=None, skipfooter=2, engine='openpyxl')\n",
    "        df_concat = pd.concat(df.values(), ignore_index=True, sort=False)\n",
    "        data_frames.append(df_concat)\n",
    "    except Exception as e:\n",
    "        print(f\"Error occurred while processing file: {file}\")\n",
    "        print(str(e))"
   ]
  },
  {
   "attachments": {},
   "cell_type": "markdown",
   "metadata": {},
   "source": [
    "## Reset Index and Set Column Headers"
   ]
  },
  {
   "cell_type": "code",
   "execution_count": 30,
   "metadata": {},
   "outputs": [
    {
     "data": {
      "text/plain": [
       "Index(['callid', 'dnis', 'ani', 'datetime', 'internal_or_external', 'language',\n",
       "       'department_utternace_first_try_success',\n",
       "       'department_utternace_max_nomatch',\n",
       "       'department_utternace_second_try_success',\n",
       "       'department_utternace_third_try_success',\n",
       "       'department_utternace_first_nomatch',\n",
       "       'department_utternace_second_nomatch',\n",
       "       'department_utternace_third_nomatch',\n",
       "       'department_utternace_first_noinput',\n",
       "       'department_utternace_second_noinput',\n",
       "       'department_utternace_third_noinput',\n",
       "       'department_utternace_max_noinput', 'department_name',\n",
       "       'department_phone', 'call_transfer_success',\n",
       "       'element_name_call_exited_in_cvp', 'department_users_says_no_1',\n",
       "       'department_users_says_no_max'],\n",
       "      dtype='object', name=0)"
      ]
     },
     "execution_count": 30,
     "metadata": {},
     "output_type": "execute_result"
    }
   ],
   "source": [
    "if len(data_frames) > 0:\n",
    "    final_sheet = pd.concat(data_frames, ignore_index=True)\n",
    "\n",
    "final_sheet.reset_index(drop=True, inplace=True)\n",
    "\n",
    "# Define headers\n",
    "final_sheet.columns = final_sheet.iloc[0]\n",
    "final_sheet = final_sheet[1:]\n",
    "# final_sheet.columns\n"
   ]
  },
  {
   "cell_type": "code",
   "execution_count": 31,
   "metadata": {},
   "outputs": [
    {
     "name": "stdout",
     "output_type": "stream",
     "text": [
      "Values in the 'datetime' column:\n",
      "1         5/31/23 2:30:06 PM\n",
      "2         5/31/23 7:45:03 PM\n",
      "3        5/31/23 12:35:34 PM\n",
      "4        5/31/23 11:59:46 AM\n",
      "5         5/31/23 3:34:31 PM\n",
      "                ...         \n",
      "16538      6/6/23 3:27:23 PM\n",
      "16539      6/6/23 4:24:39 PM\n",
      "16540      6/6/23 2:44:27 PM\n",
      "16541      6/6/23 2:36:08 PM\n",
      "16542      6/6/23 9:29:29 AM\n",
      "Name: datetime, Length: 16542, dtype: object\n"
     ]
    }
   ],
   "source": [
    "# Print the values in the \"datetime\" column\n",
    "column_name = 'datetime'\n",
    "if column_name.strip() in final_sheet.columns:\n",
    "    datetime_column = final_sheet[column_name.strip()]\n",
    "    print(f\"Values in the '{column_name}' column:\")\n",
    "    print(datetime_column)\n",
    "else:\n",
    "    print(f\"Column '{column_name.strip()}' not found in the DataFrame.\")\n"
   ]
  },
  {
   "attachments": {},
   "cell_type": "markdown",
   "metadata": {},
   "source": [
    "### Extract Date from datetime column"
   ]
  },
  {
   "cell_type": "code",
   "execution_count": 16,
   "metadata": {},
   "outputs": [
    {
     "ename": "AttributeError",
     "evalue": "'NoneType' object has no attribute 'columns'",
     "output_type": "error",
     "traceback": [
      "\u001b[1;31m---------------------------------------------------------------------------\u001b[0m",
      "\u001b[1;31mAttributeError\u001b[0m                            Traceback (most recent call last)",
      "\u001b[1;32mc:\\Users\\MT1070\\Mass General Brigham\\MTurra Internal - General\\Project Managing\\python-practice\\work-work\\raw-data-handling.ipynb Cell 8\u001b[0m in \u001b[0;36m<cell line: 14>\u001b[1;34m()\u001b[0m\n\u001b[0;32m     <a href='vscode-notebook-cell:/c%3A/Users/MT1070/Mass%20General%20Brigham/MTurra%20Internal%20-%20General/Project%20Managing/python-practice/work-work/raw-data-handling.ipynb#X16sZmlsZQ%3D%3D?line=10'>11</a>\u001b[0m         \u001b[39mprint\u001b[39m(\u001b[39mf\u001b[39m\u001b[39m\"\u001b[39m\u001b[39mColumn \u001b[39m\u001b[39m'\u001b[39m\u001b[39m{\u001b[39;00mcolumn_name\u001b[39m}\u001b[39;00m\u001b[39m'\u001b[39m\u001b[39m not found in the DataFrame.\u001b[39m\u001b[39m\"\u001b[39m)\n\u001b[0;32m     <a href='vscode-notebook-cell:/c%3A/Users/MT1070/Mass%20General%20Brigham/MTurra%20Internal%20-%20General/Project%20Managing/python-practice/work-work/raw-data-handling.ipynb#X16sZmlsZQ%3D%3D?line=11'>12</a>\u001b[0m     \u001b[39mreturn\u001b[39;00m df\n\u001b[1;32m---> <a href='vscode-notebook-cell:/c%3A/Users/MT1070/Mass%20General%20Brigham/MTurra%20Internal%20-%20General/Project%20Managing/python-practice/work-work/raw-data-handling.ipynb#X16sZmlsZQ%3D%3D?line=13'>14</a>\u001b[0m final_sheet \u001b[39m=\u001b[39m convert_to_datetime(final_sheet, \u001b[39m'\u001b[39;49m\u001b[39mdatetime\u001b[39;49m\u001b[39m'\u001b[39;49m)\n\u001b[0;32m     <a href='vscode-notebook-cell:/c%3A/Users/MT1070/Mass%20General%20Brigham/MTurra%20Internal%20-%20General/Project%20Managing/python-practice/work-work/raw-data-handling.ipynb#X16sZmlsZQ%3D%3D?line=14'>15</a>\u001b[0m final_sheet[\u001b[39m'\u001b[39m\u001b[39mDate\u001b[39m\u001b[39m'\u001b[39m]\n",
      "\u001b[1;32mc:\\Users\\MT1070\\Mass General Brigham\\MTurra Internal - General\\Project Managing\\python-practice\\work-work\\raw-data-handling.ipynb Cell 8\u001b[0m in \u001b[0;36mconvert_to_datetime\u001b[1;34m(df, column_name)\u001b[0m\n\u001b[0;32m      <a href='vscode-notebook-cell:/c%3A/Users/MT1070/Mass%20General%20Brigham/MTurra%20Internal%20-%20General/Project%20Managing/python-practice/work-work/raw-data-handling.ipynb#X16sZmlsZQ%3D%3D?line=0'>1</a>\u001b[0m \u001b[39mdef\u001b[39;00m \u001b[39mconvert_to_datetime\u001b[39m(df, column_name):\n\u001b[1;32m----> <a href='vscode-notebook-cell:/c%3A/Users/MT1070/Mass%20General%20Brigham/MTurra%20Internal%20-%20General/Project%20Managing/python-practice/work-work/raw-data-handling.ipynb#X16sZmlsZQ%3D%3D?line=1'>2</a>\u001b[0m     \u001b[39mif\u001b[39;00m column_name \u001b[39min\u001b[39;00m df\u001b[39m.\u001b[39;49mcolumns:\n\u001b[0;32m      <a href='vscode-notebook-cell:/c%3A/Users/MT1070/Mass%20General%20Brigham/MTurra%20Internal%20-%20General/Project%20Managing/python-practice/work-work/raw-data-handling.ipynb#X16sZmlsZQ%3D%3D?line=2'>3</a>\u001b[0m         \u001b[39mtry\u001b[39;00m:\n\u001b[0;32m      <a href='vscode-notebook-cell:/c%3A/Users/MT1070/Mass%20General%20Brigham/MTurra%20Internal%20-%20General/Project%20Managing/python-practice/work-work/raw-data-handling.ipynb#X16sZmlsZQ%3D%3D?line=3'>4</a>\u001b[0m             \u001b[39m# df[column_name] = pd.to_datetime(df[column_name], format='%m/%d/%y %I:%M:%S %p')\u001b[39;00m\n\u001b[0;32m      <a href='vscode-notebook-cell:/c%3A/Users/MT1070/Mass%20General%20Brigham/MTurra%20Internal%20-%20General/Project%20Managing/python-practice/work-work/raw-data-handling.ipynb#X16sZmlsZQ%3D%3D?line=4'>5</a>\u001b[0m             df[\u001b[39m'\u001b[39m\u001b[39mDate\u001b[39m\u001b[39m'\u001b[39m] \u001b[39m=\u001b[39m df[column_name]\u001b[39m.\u001b[39mdt\u001b[39m.\u001b[39mdate\n",
      "\u001b[1;31mAttributeError\u001b[0m: 'NoneType' object has no attribute 'columns'"
     ]
    }
   ],
   "source": [
    "def convert_to_datetime(df, column_name):\n",
    "    if column_name in df.columns:\n",
    "        try:\n",
    "            # df[column_name] = pd.to_datetime(df[column_name], format='%m/%d/%y %I:%M:%S %p')\n",
    "            df['Date'] = df[column_name].dt.date\n",
    "            return df\n",
    "        except ValueError:\n",
    "            print(f\"Invalid datetime format in column '{column_name}':\")\n",
    "            print(df[column_name])\n",
    "    else:\n",
    "        print(f\"Column '{column_name}' not found in the DataFrame.\")\n",
    "    return df\n",
    "\n",
    "final_sheet = convert_to_datetime(final_sheet, 'datetime')\n",
    "final_sheet['Date']"
   ]
  },
  {
   "attachments": {},
   "cell_type": "markdown",
   "metadata": {},
   "source": [
    "### Graveyard"
   ]
  },
  {
   "cell_type": "code",
   "execution_count": null,
   "metadata": {},
   "outputs": [],
   "source": [
    "def convert_to_datetime(df, column_name):\n",
    "    if column_name in df.columns:\n",
    "        if column_name == 'datetime':\n",
    "            try:\n",
    "                df['Date'] = df[column_name].dt.date\n",
    "                # df[column_name] = pd.to_datetime(df[column_name], format='%m/%d/%y %I:%M:%S %p')\n",
    "                return df\n",
    "            except ValueError:\n",
    "                print(f\"Invalid datetime format in column {column_name}:\")\n",
    "                print(df[column_name])\n",
    "        else:\n",
    "            df[column_name] = pd.to_datetime(df[column_name], format='%m/%d/%y %I:%M:%S %p')\n",
    "            return df\n",
    "    else:\n",
    "        print(f\"Column '{column_name} not found in Dataframe.\")\n",
    "        return None\n",
    "    \n",
    "final_sheet = convert_to_datetime(final_sheet, 'datetime')\n",
    "\n",
    "# print(final_sheet)"
   ]
  },
  {
   "cell_type": "code",
   "execution_count": null,
   "metadata": {},
   "outputs": [],
   "source": []
  }
 ],
 "metadata": {
  "kernelspec": {
   "display_name": "base",
   "language": "python",
   "name": "python3"
  },
  "language_info": {
   "codemirror_mode": {
    "name": "ipython",
    "version": 3
   },
   "file_extension": ".py",
   "mimetype": "text/x-python",
   "name": "python",
   "nbconvert_exporter": "python",
   "pygments_lexer": "ipython3",
   "version": "3.9.12"
  },
  "orig_nbformat": 4
 },
 "nbformat": 4,
 "nbformat_minor": 2
}
