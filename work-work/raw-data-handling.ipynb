{
 "cells": [
  {
   "attachments": {},
   "cell_type": "markdown",
   "metadata": {},
   "source": [
    "### Load modules and specify file path"
   ]
  },
  {
   "cell_type": "code",
   "execution_count": null,
   "metadata": {},
   "outputs": [],
   "source": [
    "# Import required modules\n",
    "import pandas as pd\n",
    "import glob2\n",
    "from openpyxl import load_workbook\n",
    "import matplotlib.pyplot as plt\n",
    "import matplotlib.dates as mdates\n",
    "\n",
    "# Specify paths to files\n",
    "raw_data_path = r'C:\\Users\\MT1070\\Desktop\\Master Call Volume\\raw-report-extracts' \n",
    "\n",
    "# Display names of files in master folder\n",
    "raw_files = glob2.glob(raw_data_path + \"/*.xlsx\")\n",
    "\n",
    "# Initialize an empty data frame to store data from all files\n",
    "final_sheet = pd.DataFrame()"
   ]
  },
  {
   "attachments": {},
   "cell_type": "markdown",
   "metadata": {},
   "source": [
    "### Read Data Set and Configure Entry Date "
   ]
  },
  {
   "cell_type": "code",
   "execution_count": null,
   "metadata": {},
   "outputs": [],
   "source": [
    "# Iteratively read data extracts from master files and append them to the final DataFrame\n",
    "data_frames = []  # Store DataFrames from master files\n",
    "for file in raw_files:\n",
    "    try:\n",
    "        df = pd.read_excel(file, sheet_name=None, skipfooter=2, engine='openpyxl')\n",
    "        df_concat = pd.concat(df.values(), ignore_index=True, sort=False)\n",
    "        data_frames.append(df_concat)\n",
    "    except Exception as e:\n",
    "        print(f\"Error occurred while processing file: {file}\")\n",
    "        print(str(e))"
   ]
  },
  {
   "attachments": {},
   "cell_type": "markdown",
   "metadata": {},
   "source": [
    "## Reset Index and Set Column Headers"
   ]
  },
  {
   "cell_type": "code",
   "execution_count": 54,
   "metadata": {},
   "outputs": [],
   "source": [
    "if len(data_frames) > 0:\n",
    "    final_sheet = pd.concat(data_frames, ignore_index=True)\n",
    "\n",
    "# Set desired column as \n",
    "\n",
    "final_sheet.reset_index(drop=True, inplace=True)\n",
    "\n",
    "# Define headers\n",
    "final_sheet.columns = final_sheet.iloc[0]\n",
    "final_sheet = final_sheet[1:]\n"
   ]
  },
  {
   "cell_type": "code",
   "execution_count": 56,
   "metadata": {},
   "outputs": [
    {
     "name": "stdout",
     "output_type": "stream",
     "text": [
      "Invalid datetime entries:\n",
      "2978    NaT\n",
      "5879    NaT\n",
      "8701    NaT\n",
      "9632    NaT\n",
      "10381   NaT\n",
      "13550   NaT\n",
      "Name: datetime, dtype: datetime64[ns]\n"
     ]
    }
   ],
   "source": [
    "# Print the values in the \"datetime\" column\n",
    "column_name = 'datetime'\n",
    "if column_name.strip() in final_sheet.columns:\n",
    "    final_sheet[column_name.strip()] = pd.to_datetime(final_sheet[column_name.strip()], format='%m/%d/%y %I:%M:%S %p', errors='coerce')\n",
    "\n",
    "    # Check the data type of the \"datetime\" column after conversion\n",
    "    datetime_column = final_sheet[column_name.strip()]\n",
    "    # data_type = datetime_column.dtype\n",
    "    # print(f\"The data type of elements in the '{column_name}' column after conversion is: {data_type}\")\n",
    "\n",
    "    # Create the 'date' column by extracting month/date/year values\n",
    "    final_sheet['date'] = final_sheet[column_name.strip()].dt.strftime('%m/%d/%Y')\n",
    "\n",
    "    # Print the datetime entries that cannot be parsed\n",
    "    invalid_entries = final_sheet[datetime_column.isna()][column_name.strip()]\n",
    "    print(f\"Invalid datetime entries:\")\n",
    "    print(invalid_entries)\n",
    "\n",
    "\n",
    "else:\n",
    "    print(f\"Column '{column_name.strip()}' not found in the DataFrame.\")\n"
   ]
  },
  {
   "cell_type": "code",
   "execution_count": 57,
   "metadata": {},
   "outputs": [
    {
     "data": {
      "text/plain": [
       "1        05/31/2023\n",
       "2        05/31/2023\n",
       "3        05/31/2023\n",
       "4        05/31/2023\n",
       "5        05/31/2023\n",
       "            ...    \n",
       "16538    06/06/2023\n",
       "16539    06/06/2023\n",
       "16540    06/06/2023\n",
       "16541    06/06/2023\n",
       "16542    06/06/2023\n",
       "Name: date, Length: 16542, dtype: object"
      ]
     },
     "execution_count": 57,
     "metadata": {},
     "output_type": "execute_result"
    }
   ],
   "source": [
    "final_sheet.date"
   ]
  },
  {
   "attachments": {},
   "cell_type": "markdown",
   "metadata": {},
   "source": [
    "### Extract Date from datetime column"
   ]
  },
  {
   "cell_type": "code",
   "execution_count": null,
   "metadata": {},
   "outputs": [],
   "source": [
    "def convert_to_datetime(df, column_name):\n",
    "    if column_name in df.columns:\n",
    "        try:\n",
    "            # df[column_name] = pd.to_datetime(df[column_name], format='%m/%d/%y %I:%M:%S %p')\n",
    "            df['Date'] = df[column_name].dt.date\n",
    "            return df\n",
    "        except ValueError:\n",
    "            print(f\"Invalid datetime format in column '{column_name}':\")\n",
    "            print(df[column_name])\n",
    "    else:\n",
    "        print(f\"Column '{column_name}' not found in the DataFrame.\")\n",
    "    return df\n",
    "\n",
    "final_sheet = convert_to_datetime(final_sheet, 'datetime')\n",
    "final_sheet['Date']"
   ]
  },
  {
   "attachments": {},
   "cell_type": "markdown",
   "metadata": {},
   "source": [
    "### Graveyard"
   ]
  },
  {
   "attachments": {},
   "cell_type": "markdown",
   "metadata": {},
   "source": [
    "### Locate Invalid Entries "
   ]
  },
  {
   "cell_type": "code",
   "execution_count": null,
   "metadata": {},
   "outputs": [],
   "source": [
    "column_name = 'datetime'\n",
    "if column_name.strip() in final_sheet.columns:\n",
    "    final_sheet[column_name.strip()] = pd.to_datetime(final_sheet[column_name.strip()], format='%m/%d/%y %I:%M:%S %p', errors='coerce')\n",
    "\n",
    "    # Check the data type of the \"datetime\" column after conversion\n",
    "    datetime_column = final_sheet[column_name.strip()]\n",
    "    data_type = datetime_column.dtype\n",
    "    print(f\"The data type of elements in the '{column_name}' column after conversion is: {data_type}\")\n",
    "\n",
    "    # Print the datetime entries that cannot be parsed\n",
    "    invalid_entries = final_sheet[datetime_column.isna()][column_name.strip()]\n",
    "    print(f\"Invalid datetime entries:\")\n",
    "    print(invalid_entries)\n",
    "\n",
    "# Utilize the output of the script above to find the NaN values.\n",
    "index_value = 2978\n",
    "print(final_sheet.iloc[index_value])"
   ]
  },
  {
   "cell_type": "code",
   "execution_count": null,
   "metadata": {},
   "outputs": [],
   "source": [
    "def convert_to_datetime(df, column_name):\n",
    "    if column_name in df.columns:\n",
    "        if column_name == 'datetime':\n",
    "            try:\n",
    "                df['Date'] = df[column_name].dt.date\n",
    "                # df[column_name] = pd.to_datetime(df[column_name], format='%m/%d/%y %I:%M:%S %p')\n",
    "                return df\n",
    "            except ValueError:\n",
    "                print(f\"Invalid datetime format in column {column_name}:\")\n",
    "                print(df[column_name])\n",
    "        else:\n",
    "            df[column_name] = pd.to_datetime(df[column_name], format='%m/%d/%y %I:%M:%S %p')\n",
    "            return df\n",
    "    else:\n",
    "        print(f\"Column '{column_name} not found in Dataframe.\")\n",
    "        return None\n",
    "    \n",
    "final_sheet = convert_to_datetime(final_sheet, 'datetime')\n",
    "\n",
    "# print(final_sheet)"
   ]
  },
  {
   "cell_type": "code",
   "execution_count": null,
   "metadata": {},
   "outputs": [],
   "source": []
  }
 ],
 "metadata": {
  "kernelspec": {
   "display_name": "base",
   "language": "python",
   "name": "python3"
  },
  "language_info": {
   "codemirror_mode": {
    "name": "ipython",
    "version": 3
   },
   "file_extension": ".py",
   "mimetype": "text/x-python",
   "name": "python",
   "nbconvert_exporter": "python",
   "pygments_lexer": "ipython3",
   "version": "3.9.12"
  },
  "orig_nbformat": 4
 },
 "nbformat": 4,
 "nbformat_minor": 2
}
