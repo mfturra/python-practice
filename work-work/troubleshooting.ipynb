{
 "cells": [
  {
   "attachments": {},
   "cell_type": "markdown",
   "metadata": {},
   "source": [
    "## Load modules and specify paths"
   ]
  },
  {
   "cell_type": "code",
   "execution_count": null,
   "metadata": {},
   "outputs": [],
   "source": [
    "# Import required modules\n",
    "import pandas as pd\n",
    "import glob2\n",
    "from openpyxl import load_workbook\n",
    "\n",
    "# Specify paths to files\n",
    "master_path = r'C:\\Users\\MT1070\\Desktop\\Master Call Volume' \n",
    "additional_files_path = r'C:\\Users\\MT1070\\Desktop\\Master Call Volume\\speech-report-extracts'\n",
    "\n",
    "# Display names of files in master folder\n",
    "master_file_names = glob2.glob(master_path + \"/*.xlsx\")\n",
    "\n",
    "# Display names of files in additional files folder\n",
    "additional_file_names = glob2.glob(additional_files_path + \"/*.xlsx\")\n",
    "\n",
    "# Remove the master Excel file from additional_file_names list if present\n",
    "additional_file_names = [file for file in additional_file_names if file != r'C:\\Users\\MT1070\\Desktop\\Master Call Volume\\speech-report-extracts']\n",
    "\n",
    "# Initialize an empty data frame to store data from all files\n",
    "final_sheet = pd.DataFrame()"
   ]
  },
  {
   "attachments": {},
   "cell_type": "markdown",
   "metadata": {},
   "source": [
    "## Read data extracts and append to DF"
   ]
  },
  {
   "cell_type": "code",
   "execution_count": null,
   "metadata": {},
   "outputs": [],
   "source": [
    "# Iteratively read data extracts from master files and append them to the final DataFrame\n",
    "data_frames = []  # Store DataFrames from master files\n",
    "for file in master_file_names:\n",
    "    try:\n",
    "        df = pd.read_excel(file, sheet_name=None, skipfooter=2, engine='openpyxl')\n",
    "        df_concat = pd.concat(df.values(), ignore_index=True, sort=False)\n",
    "        data_frames.append(df_concat)\n",
    "    except Exception as e:\n",
    "        print(f\"Error occurred while processing file: {file}\")\n",
    "        print(str(e))"
   ]
  },
  {
   "attachments": {},
   "cell_type": "markdown",
   "metadata": {},
   "source": [
    "## Merge all DataFrames vertically and reset index"
   ]
  },
  {
   "cell_type": "code",
   "execution_count": null,
   "metadata": {},
   "outputs": [],
   "source": [
    "if len(data_frames) > 0:\n",
    "    final_sheet = pd.concat(data_frames, axis=0, ignore_index=True)\n",
    "\n",
    "# Reset index to use data col in final_sheet\n",
    "final_sheet.reset_index(drop=True, inplace=True)"
   ]
  },
  {
   "cell_type": "code",
   "execution_count": null,
   "metadata": {},
   "outputs": [],
   "source": [
    "# Read df_additional data\n",
    "df_additional = pd.DataFrame()\n",
    "for file in additional_file_names:\n",
    "    try:\n",
    "        df_additional_temp = pd.read_excel(file, sheet_name=None, skipfooter=2, engine='openpyxl')\n",
    "        df_additional_temp_concat = pd.concat(df_additional_temp.values(), ignore_index=True, sort=False)\n",
    "        df_additional = pd.concat([df_additional, df_additional_temp_concat], axis=0, ignore_index=True)\n",
    "    except Exception as e:\n",
    "        print(f\"Error occurred while processing additional file: {file}\")\n",
    "        print(str(e))\n",
    "\n"
   ]
  },
  {
   "attachments": {},
   "cell_type": "markdown",
   "metadata": {},
   "source": [
    "## Merge data horizontally and set column headers"
   ]
  },
  {
   "cell_type": "code",
   "execution_count": null,
   "metadata": {},
   "outputs": [],
   "source": [
    "if not df_additional.empty:\n",
    "    final_sheet = pd.concat([final_sheet, df_additional], axis=1)\n",
    "\n",
    "# Set the column headers\n",
    "final_sheet.columns = final_sheet.iloc[0]\n",
    "final_sheet = final_sheet[1:]\n",
    "\n",
    "# print(final_sheet.columns)\n"
   ]
  },
  {
   "attachments": {},
   "cell_type": "markdown",
   "metadata": {},
   "source": [
    "### Combine data into a new Excel file"
   ]
  },
  {
   "cell_type": "code",
   "execution_count": 19,
   "metadata": {},
   "outputs": [],
   "source": [
    "master_file_path = r\"C:\\Users\\MT1070\\Desktop\\Master Call Volume\\SpinSci Call Volume Evaluation.xlsx\"\n",
    "final_sheet.to_excel(master_file_path, sheet_name='Raw Data', header=True, index=False)\n"
   ]
  },
  {
   "attachments": {},
   "cell_type": "markdown",
   "metadata": {},
   "source": [
    "## Reformat date column and remove rows with 'date' in the date column"
   ]
  },
  {
   "cell_type": "code",
   "execution_count": null,
   "metadata": {},
   "outputs": [],
   "source": [
    "final_sheet['date'] = pd.to_datetime(final_sheet['date'], format='%m/%d/%Y', errors='coerce')\n",
    "final_sheet = final_sheet[~final_sheet['date'].astype(str).str.contains('date', case=False, na=False)]\n",
    "\n",
    "# Group the data set based on calendar date\n",
    "filtered_data = final_sheet.groupby(pd.Grouper(key='date', freq='D')).sum()"
   ]
  },
  {
   "attachments": {},
   "cell_type": "markdown",
   "metadata": {},
   "source": [
    "## Combine data into a new Excel file"
   ]
  },
  {
   "cell_type": "code",
   "execution_count": null,
   "metadata": {},
   "outputs": [],
   "source": [
    "master_file_path = r\"C:\\Users\\MT1070\\Desktop\\Master Call Volume\\SpinSci Call Volume Evaluation.xlsx\"\n",
    "final_sheet.to_excel(master_file_path, sheet_name='Raw Data', header=True, index=False)\n"
   ]
  },
  {
   "attachments": {},
   "cell_type": "markdown",
   "metadata": {},
   "source": [
    "### Graveyard"
   ]
  },
  {
   "cell_type": "code",
   "execution_count": null,
   "metadata": {},
   "outputs": [],
   "source": [
    "# Group the data set based on calendar date\n",
    "# filtered_data = final_sheet.groupby(final_sheet['date'].dt.date).sum()\n",
    "\n",
    "\n",
    "# # Drop rows where 'date' column contains the string 'date'\n",
    "# final_sheet = final_sheet[~final_sheet['date'].str.contains('date', case=False, na=False)]"
   ]
  }
 ],
 "metadata": {
  "kernelspec": {
   "display_name": "base",
   "language": "python",
   "name": "python3"
  },
  "language_info": {
   "codemirror_mode": {
    "name": "ipython",
    "version": 3
   },
   "file_extension": ".py",
   "mimetype": "text/x-python",
   "name": "python",
   "nbconvert_exporter": "python",
   "pygments_lexer": "ipython3",
   "version": "3.9.12"
  },
  "orig_nbformat": 4
 },
 "nbformat": 4,
 "nbformat_minor": 2
}
