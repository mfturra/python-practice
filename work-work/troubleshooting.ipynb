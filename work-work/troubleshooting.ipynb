{
 "cells": [
  {
   "cell_type": "code",
   "execution_count": null,
   "metadata": {},
   "outputs": [],
   "source": [
    "# Import required modules\n",
    "import pandas as pd\n",
    "import glob2\n",
    "from openpyxl import load_workbook\n",
    "import matplotlib.pyplot as plt\n",
    "import matplotlib.dates as mdates\n",
    "\n",
    "# Specify paths to files\n",
    "master_path = r'C:\\Users\\MT1070\\Desktop\\Master Call Volume' #\\pilot-extracts'\n",
    "additional_files_path = r'C:\\Users\\MT1070\\Desktop\\Master Call Volume\\speech-report-extracts'\n",
    "\n",
    "# Display names of files in master folder\n",
    "master_file_names = glob2.glob(master_path + \"/*.xlsx\")\n",
    "\n",
    "# Display names of files in additional files folder\n",
    "additional_file_names = glob2.glob(additional_files_path + \"/*.xlsx\")\n",
    "\n",
    "# Remove the master Excel file from additional_file_names list if present\n",
    "additional_file_names = [file for file in additional_file_names if file != r'C:\\Users\\MT1070\\Desktop\\Master Call Volume\\speech-report-extracts']\n",
    "\n",
    "\n",
    "# Initialize an empty data frame to store data from all files\n",
    "final_sheet = pd.DataFrame()\n",
    "\n",
    "# Iteratively read data extracts from master files and append them to the final DataFrame\n",
    "data_frames = []  # Store DataFrames from master files\n",
    "for file in master_file_names:\n",
    "    try:\n",
    "        df = pd.read_excel(file, sheet_name=None, skipfooter=2, engine='openpyxl')\n",
    "        df_concat = pd.concat(df.values(), ignore_index=True, sort=False)\n",
    "        data_frames.append(df_concat)\n",
    "    except Exception as e:\n",
    "        print(f\"Error occurred while processing file: {file}\")\n",
    "        print(str(e))\n",
    "\n",
    "# Merge additional Excel files from separate folder vertically based on column 18 (earliest date to latest date)\n",
    "for file in additional_file_names:\n",
    "    try:\n",
    "        df_additional_temp = pd.read_excel(file, sheet_name=None, skipfooter=2, engine='openpyxl')\n",
    "        df_additional_temp_concat = pd.concat(df_additional_temp.values(), ignore_index=True, sort=False)\n",
    "        df_additional = pd.concat([df_additional, df_additional_temp_concat], axis=0, ignore_index=True)    \n",
    "    except Exception as e:\n",
    "        print(f\"Error occurred while processing additional file: {file}\")\n",
    "        print(str(e))\n",
    "\n",
    "# Merge final_sheet and df_additional horizontally\n",
    "if not df_additional.empty:\n",
    "    final_sheet = pd.concat([final_sheet, df_additional], axis=1)\n",
    "\n",
    "# Reset index to use data col in final_sheet\n",
    "# final_sheet.reset_index(drop=True, inplace=True)\n",
    "\n",
    "# Combine data into a new Excel file\n",
    "master_file_path = r\"C:\\Users\\MT1070\\Desktop\\Master Call Volume\\SpinSci Call Volume Evaluation.xlsx\"\n",
    "final_sheet.to_excel(master_file_path, sheet_name='Raw Data', index=False, header=False)\n"
   ]
  },
  {
   "cell_type": "code",
   "execution_count": null,
   "metadata": {},
   "outputs": [],
   "source": []
  }
 ],
 "metadata": {
  "kernelspec": {
   "display_name": "base",
   "language": "python",
   "name": "python3"
  },
  "language_info": {
   "codemirror_mode": {
    "name": "ipython",
    "version": 3
   },
   "file_extension": ".py",
   "mimetype": "text/x-python",
   "name": "python",
   "nbconvert_exporter": "python",
   "pygments_lexer": "ipython3",
   "version": "3.9.12"
  },
  "orig_nbformat": 4
 },
 "nbformat": 4,
 "nbformat_minor": 2
}
