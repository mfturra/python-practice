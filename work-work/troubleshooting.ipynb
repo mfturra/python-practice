{
 "cells": [
  {
   "attachments": {},
   "cell_type": "markdown",
   "metadata": {},
   "source": [
    "## Load modules and specify paths"
   ]
  },
  {
   "cell_type": "code",
   "execution_count": 2,
   "metadata": {},
   "outputs": [],
   "source": [
    "# Import required modules\n",
    "import pandas as pd\n",
    "import glob2\n",
    "from openpyxl import load_workbook\n",
    "import matplotlib.pyplot as plt\n",
    "import matplotlib.dates as mdates\n",
    "\n",
    "# Specify paths to files\n",
    "master_path = r'C:\\Users\\MT1070\\Desktop\\Master Call Volume' \n",
    "additional_files_path = r'C:\\Users\\MT1070\\Desktop\\Master Call Volume\\speech-report-extracts'\n",
    "\n",
    "# Display names of files in master folder\n",
    "master_file_names = glob2.glob(master_path + \"/*.xlsx\")\n",
    "\n",
    "# Display names of files in additional files folder\n",
    "additional_file_names = glob2.glob(additional_files_path + \"/*.xlsx\")\n",
    "\n",
    "# Remove the master Excel file from additional_file_names list if present\n",
    "additional_file_names = [file for file in additional_file_names if file != r'C:\\Users\\MT1070\\Desktop\\Master Call Volume\\speech-report-extracts']\n",
    "\n",
    "# Initialize an empty data frame to store data from all files\n",
    "final_sheet = pd.DataFrame()"
   ]
  },
  {
   "attachments": {},
   "cell_type": "markdown",
   "metadata": {},
   "source": [
    "## Read data extracts and append to DF"
   ]
  },
  {
   "cell_type": "code",
   "execution_count": 3,
   "metadata": {},
   "outputs": [
    {
     "name": "stderr",
     "output_type": "stream",
     "text": [
      "c:\\Users\\MT1070\\Anaconda3\\lib\\site-packages\\openpyxl\\styles\\stylesheet.py:226: UserWarning: Workbook contains no default style, apply openpyxl's default\n",
      "  warn(\"Workbook contains no default style, apply openpyxl's default\")\n",
      "c:\\Users\\MT1070\\Anaconda3\\lib\\site-packages\\openpyxl\\styles\\stylesheet.py:226: UserWarning: Workbook contains no default style, apply openpyxl's default\n",
      "  warn(\"Workbook contains no default style, apply openpyxl's default\")\n",
      "c:\\Users\\MT1070\\Anaconda3\\lib\\site-packages\\openpyxl\\styles\\stylesheet.py:226: UserWarning: Workbook contains no default style, apply openpyxl's default\n",
      "  warn(\"Workbook contains no default style, apply openpyxl's default\")\n",
      "c:\\Users\\MT1070\\Anaconda3\\lib\\site-packages\\openpyxl\\styles\\stylesheet.py:226: UserWarning: Workbook contains no default style, apply openpyxl's default\n",
      "  warn(\"Workbook contains no default style, apply openpyxl's default\")\n",
      "c:\\Users\\MT1070\\Anaconda3\\lib\\site-packages\\openpyxl\\styles\\stylesheet.py:226: UserWarning: Workbook contains no default style, apply openpyxl's default\n",
      "  warn(\"Workbook contains no default style, apply openpyxl's default\")\n",
      "c:\\Users\\MT1070\\Anaconda3\\lib\\site-packages\\openpyxl\\styles\\stylesheet.py:226: UserWarning: Workbook contains no default style, apply openpyxl's default\n",
      "  warn(\"Workbook contains no default style, apply openpyxl's default\")\n"
     ]
    },
    {
     "name": "stdout",
     "output_type": "stream",
     "text": [
      "Error occurred while processing file: C:\\Users\\MT1070\\Desktop\\Master Call Volume\\~$BWH_CW_Operators_Call_Volume_Report_5.23.2023.xlsx\n",
      "File is not a zip file\n"
     ]
    }
   ],
   "source": [
    "# Iteratively read data extracts from master files and append them to the final DataFrame\n",
    "data_frames = []  # Store DataFrames from master files\n",
    "for file in master_file_names:\n",
    "    try:\n",
    "        df = pd.read_excel(file, sheet_name=None, skipfooter=2, engine='openpyxl')\n",
    "        df_concat = pd.concat(df.values(), ignore_index=True, sort=False)\n",
    "        data_frames.append(df_concat)\n",
    "    except Exception as e:\n",
    "        print(f\"Error occurred while processing file: {file}\")\n",
    "        print(str(e))"
   ]
  },
  {
   "attachments": {},
   "cell_type": "markdown",
   "metadata": {},
   "source": [
    "## Merge all DataFrames vertically and reset index"
   ]
  },
  {
   "cell_type": "code",
   "execution_count": 4,
   "metadata": {},
   "outputs": [],
   "source": [
    "if len(data_frames) > 0:\n",
    "    final_sheet = pd.concat(data_frames, axis=0, ignore_index=True)\n",
    "\n",
    "# Reset index to use data col in final_sheet\n",
    "final_sheet.reset_index(drop=True, inplace=True)"
   ]
  },
  {
   "cell_type": "code",
   "execution_count": 5,
   "metadata": {},
   "outputs": [
    {
     "name": "stderr",
     "output_type": "stream",
     "text": [
      "c:\\Users\\MT1070\\Anaconda3\\lib\\site-packages\\openpyxl\\styles\\stylesheet.py:226: UserWarning: Workbook contains no default style, apply openpyxl's default\n",
      "  warn(\"Workbook contains no default style, apply openpyxl's default\")\n",
      "c:\\Users\\MT1070\\Anaconda3\\lib\\site-packages\\openpyxl\\styles\\stylesheet.py:226: UserWarning: Workbook contains no default style, apply openpyxl's default\n",
      "  warn(\"Workbook contains no default style, apply openpyxl's default\")\n",
      "c:\\Users\\MT1070\\Anaconda3\\lib\\site-packages\\openpyxl\\styles\\stylesheet.py:226: UserWarning: Workbook contains no default style, apply openpyxl's default\n",
      "  warn(\"Workbook contains no default style, apply openpyxl's default\")\n",
      "c:\\Users\\MT1070\\Anaconda3\\lib\\site-packages\\openpyxl\\styles\\stylesheet.py:226: UserWarning: Workbook contains no default style, apply openpyxl's default\n",
      "  warn(\"Workbook contains no default style, apply openpyxl's default\")\n",
      "c:\\Users\\MT1070\\Anaconda3\\lib\\site-packages\\openpyxl\\styles\\stylesheet.py:226: UserWarning: Workbook contains no default style, apply openpyxl's default\n",
      "  warn(\"Workbook contains no default style, apply openpyxl's default\")\n",
      "c:\\Users\\MT1070\\Anaconda3\\lib\\site-packages\\openpyxl\\styles\\stylesheet.py:226: UserWarning: Workbook contains no default style, apply openpyxl's default\n",
      "  warn(\"Workbook contains no default style, apply openpyxl's default\")\n",
      "c:\\Users\\MT1070\\Anaconda3\\lib\\site-packages\\openpyxl\\styles\\stylesheet.py:226: UserWarning: Workbook contains no default style, apply openpyxl's default\n",
      "  warn(\"Workbook contains no default style, apply openpyxl's default\")\n",
      "c:\\Users\\MT1070\\Anaconda3\\lib\\site-packages\\openpyxl\\styles\\stylesheet.py:226: UserWarning: Workbook contains no default style, apply openpyxl's default\n",
      "  warn(\"Workbook contains no default style, apply openpyxl's default\")\n"
     ]
    }
   ],
   "source": [
    "# Read df_additional data\n",
    "df_additional = pd.DataFrame()\n",
    "for file in additional_file_names:\n",
    "    try:\n",
    "        df_additional_temp = pd.read_excel(file, sheet_name=None, skipfooter=2, engine='openpyxl')\n",
    "        df_additional_temp_concat = pd.concat(df_additional_temp.values(), ignore_index=True, sort=False)\n",
    "        df_additional = pd.concat([df_additional, df_additional_temp_concat], axis=0, ignore_index=True)\n",
    "    except Exception as e:\n",
    "        print(f\"Error occurred while processing additional file: {file}\")\n",
    "        print(str(e))\n",
    "\n"
   ]
  },
  {
   "attachments": {},
   "cell_type": "markdown",
   "metadata": {},
   "source": [
    "## Merge data horizontally and set column headers"
   ]
  },
  {
   "cell_type": "code",
   "execution_count": 6,
   "metadata": {},
   "outputs": [],
   "source": [
    "if not df_additional.empty:\n",
    "    final_sheet = pd.concat([final_sheet, df_additional], axis=1)\n",
    "\n",
    "# Set the column headers\n",
    "final_sheet.columns = final_sheet.iloc[0]\n",
    "final_sheet = final_sheet[1:]\n",
    "\n",
    "# print(final_sheet.columns)\n"
   ]
  },
  {
   "attachments": {},
   "cell_type": "markdown",
   "metadata": {},
   "source": [
    "### Combine data into a new Excel file"
   ]
  },
  {
   "cell_type": "code",
   "execution_count": 23,
   "metadata": {},
   "outputs": [],
   "source": [
    "master_file_path = r\"C:\\Users\\MT1070\\Desktop\\Master Call Volume\\Raw SpinSci Call Volume Evaluation.xlsx\"\n",
    "final_sheet.to_excel(master_file_path, sheet_name='Raw Data', header=True, index=False)\n",
    "\n",
    "# Read file and skip the first row\n",
    "df = pd.read_excel(master_file_path, header=0) #, skiprows=[0])"
   ]
  },
  {
   "attachments": {},
   "cell_type": "markdown",
   "metadata": {},
   "source": [
    "## Merge Date Data"
   ]
  },
  {
   "attachments": {},
   "cell_type": "markdown",
   "metadata": {},
   "source": [
    "#### Remove repetitive rows with 'date'"
   ]
  },
  {
   "cell_type": "code",
   "execution_count": 20,
   "metadata": {},
   "outputs": [
    {
     "name": "stderr",
     "output_type": "stream",
     "text": [
      "C:\\Users\\MT1070\\AppData\\Local\\Temp\\ipykernel_23388\\3011307080.py:2: SettingWithCopyWarning: \n",
      "A value is trying to be set on a copy of a slice from a DataFrame.\n",
      "Try using .loc[row_indexer,col_indexer] = value instead\n",
      "\n",
      "See the caveats in the documentation: https://pandas.pydata.org/pandas-docs/stable/user_guide/indexing.html#returning-a-view-versus-a-copy\n",
      "  data['date'] = pd.to_datetime(data['date'], format='%m/%d/%y', errors='coerce', exact=False, infer_datetime_format=True)\n"
     ]
    }
   ],
   "source": [
    "data = df[~df['date'].str.contains('date', case=False, na=False)]\n",
    "data['date'] = pd.to_datetime(data['date'], format='%m/%d/%y', errors='coerce', exact=False, infer_datetime_format=True)\n",
    "# data['date'] = data['date'].dt.replace(year=2023)\n"
   ]
  },
  {
   "attachments": {},
   "cell_type": "markdown",
   "metadata": {},
   "source": [
    "### Group column values by 'date'"
   ]
  },
  {
   "cell_type": "code",
   "execution_count": 21,
   "metadata": {},
   "outputs": [],
   "source": [
    "filtered_data = data.groupby('date').sum()\n",
    "filtered_data = filtered_data.reset_index()\n",
    "filtered_data['weekday'] = filtered_data['date'].dt.dayofweek"
   ]
  },
  {
   "attachments": {},
   "cell_type": "markdown",
   "metadata": {},
   "source": [
    "### Output Data Set to New Sheet "
   ]
  },
  {
   "cell_type": "code",
   "execution_count": null,
   "metadata": {},
   "outputs": [],
   "source": [
    "filtered_file_path = r\"C:\\Users\\MT1070\\Desktop\\Master Call Volume\\SpinSci Call Volume Evaluation.xlsx\"\n",
    "final_sheet.to_excel(master_file_path, sheet_name='Raw Data', header=True, index=False)"
   ]
  },
  {
   "cell_type": "code",
   "execution_count": 17,
   "metadata": {},
   "outputs": [],
   "source": [
    "filtered_file_path = r\"C:\\Users\\MT1070\\Desktop\\Master Call Volume\\SpinSci Call Volume Evaluation.xlsx\"\n",
    "# writer = pd.ExcelWriter(filtered_file_path, engine='openpyxl')\n",
    "filtered_data.to_excel(filtered_file_path, sheet_name='Grouped Data', header=True, index=False)"
   ]
  },
  {
   "attachments": {},
   "cell_type": "markdown",
   "metadata": {},
   "source": [
    "## Plot Internal and External Call Volume"
   ]
  },
  {
   "cell_type": "code",
   "execution_count": 22,
   "metadata": {},
   "outputs": [
    {
     "ename": "KeyError",
     "evalue": "'additional_column'",
     "output_type": "error",
     "traceback": [
      "\u001b[1;31m---------------------------------------------------------------------------\u001b[0m",
      "\u001b[1;31mKeyError\u001b[0m                                  Traceback (most recent call last)",
      "File \u001b[1;32mc:\\Users\\MT1070\\Anaconda3\\lib\\site-packages\\pandas\\core\\indexes\\base.py:3621\u001b[0m, in \u001b[0;36mIndex.get_loc\u001b[1;34m(self, key, method, tolerance)\u001b[0m\n\u001b[0;32m   3620\u001b[0m \u001b[39mtry\u001b[39;00m:\n\u001b[1;32m-> 3621\u001b[0m     \u001b[39mreturn\u001b[39;00m \u001b[39mself\u001b[39;49m\u001b[39m.\u001b[39;49m_engine\u001b[39m.\u001b[39;49mget_loc(casted_key)\n\u001b[0;32m   3622\u001b[0m \u001b[39mexcept\u001b[39;00m \u001b[39mKeyError\u001b[39;00m \u001b[39mas\u001b[39;00m err:\n",
      "File \u001b[1;32mc:\\Users\\MT1070\\Anaconda3\\lib\\site-packages\\pandas\\_libs\\index.pyx:136\u001b[0m, in \u001b[0;36mpandas._libs.index.IndexEngine.get_loc\u001b[1;34m()\u001b[0m\n",
      "File \u001b[1;32mc:\\Users\\MT1070\\Anaconda3\\lib\\site-packages\\pandas\\_libs\\index.pyx:163\u001b[0m, in \u001b[0;36mpandas._libs.index.IndexEngine.get_loc\u001b[1;34m()\u001b[0m\n",
      "File \u001b[1;32mpandas\\_libs\\hashtable_class_helper.pxi:5198\u001b[0m, in \u001b[0;36mpandas._libs.hashtable.PyObjectHashTable.get_item\u001b[1;34m()\u001b[0m\n",
      "File \u001b[1;32mpandas\\_libs\\hashtable_class_helper.pxi:5206\u001b[0m, in \u001b[0;36mpandas._libs.hashtable.PyObjectHashTable.get_item\u001b[1;34m()\u001b[0m\n",
      "\u001b[1;31mKeyError\u001b[0m: 'additional_column'",
      "\nThe above exception was the direct cause of the following exception:\n",
      "\u001b[1;31mKeyError\u001b[0m                                  Traceback (most recent call last)",
      "\u001b[1;32mc:\\Users\\MT1070\\Mass General Brigham\\MTurra Internal - General\\Project Managing\\python-practice\\work-work\\troubleshooting.ipynb Cell 21\u001b[0m in \u001b[0;36m<cell line: 5>\u001b[1;34m()\u001b[0m\n\u001b[0;32m     <a href='vscode-notebook-cell:/c%3A/Users/MT1070/Mass%20General%20Brigham/MTurra%20Internal%20-%20General/Project%20Managing/python-practice/work-work/troubleshooting.ipynb#X30sZmlsZQ%3D%3D?line=17'>18</a>\u001b[0m \u001b[39m# Creating a twin y-axis for the additional column\u001b[39;00m\n\u001b[0;32m     <a href='vscode-notebook-cell:/c%3A/Users/MT1070/Mass%20General%20Brigham/MTurra%20Internal%20-%20General/Project%20Managing/python-practice/work-work/troubleshooting.ipynb#X30sZmlsZQ%3D%3D?line=18'>19</a>\u001b[0m ax2 \u001b[39m=\u001b[39m ax1\u001b[39m.\u001b[39mtwinx()\n\u001b[1;32m---> <a href='vscode-notebook-cell:/c%3A/Users/MT1070/Mass%20General%20Brigham/MTurra%20Internal%20-%20General/Project%20Managing/python-practice/work-work/troubleshooting.ipynb#X30sZmlsZQ%3D%3D?line=19'>20</a>\u001b[0m ax2\u001b[39m.\u001b[39mplot(filtered_data[\u001b[39m'\u001b[39m\u001b[39mdate\u001b[39m\u001b[39m'\u001b[39m], filtered_data[\u001b[39m'\u001b[39;49m\u001b[39madditional_column\u001b[39;49m\u001b[39m'\u001b[39;49m], \u001b[39m'\u001b[39m\u001b[39mr\u001b[39m\u001b[39m'\u001b[39m)\n\u001b[0;32m     <a href='vscode-notebook-cell:/c%3A/Users/MT1070/Mass%20General%20Brigham/MTurra%20Internal%20-%20General/Project%20Managing/python-practice/work-work/troubleshooting.ipynb#X30sZmlsZQ%3D%3D?line=20'>21</a>\u001b[0m ax2\u001b[39m.\u001b[39mset_ylabel(\u001b[39m'\u001b[39m\u001b[39mAdditional Column\u001b[39m\u001b[39m'\u001b[39m)\n\u001b[0;32m     <a href='vscode-notebook-cell:/c%3A/Users/MT1070/Mass%20General%20Brigham/MTurra%20Internal%20-%20General/Project%20Managing/python-practice/work-work/troubleshooting.ipynb#X30sZmlsZQ%3D%3D?line=21'>22</a>\u001b[0m ax2\u001b[39m.\u001b[39mtick_params(axis\u001b[39m=\u001b[39m\u001b[39m'\u001b[39m\u001b[39my\u001b[39m\u001b[39m'\u001b[39m, labelcolor\u001b[39m=\u001b[39m\u001b[39m'\u001b[39m\u001b[39mr\u001b[39m\u001b[39m'\u001b[39m)\n",
      "File \u001b[1;32mc:\\Users\\MT1070\\Anaconda3\\lib\\site-packages\\pandas\\core\\frame.py:3505\u001b[0m, in \u001b[0;36mDataFrame.__getitem__\u001b[1;34m(self, key)\u001b[0m\n\u001b[0;32m   3503\u001b[0m \u001b[39mif\u001b[39;00m \u001b[39mself\u001b[39m\u001b[39m.\u001b[39mcolumns\u001b[39m.\u001b[39mnlevels \u001b[39m>\u001b[39m \u001b[39m1\u001b[39m:\n\u001b[0;32m   3504\u001b[0m     \u001b[39mreturn\u001b[39;00m \u001b[39mself\u001b[39m\u001b[39m.\u001b[39m_getitem_multilevel(key)\n\u001b[1;32m-> 3505\u001b[0m indexer \u001b[39m=\u001b[39m \u001b[39mself\u001b[39;49m\u001b[39m.\u001b[39;49mcolumns\u001b[39m.\u001b[39;49mget_loc(key)\n\u001b[0;32m   3506\u001b[0m \u001b[39mif\u001b[39;00m is_integer(indexer):\n\u001b[0;32m   3507\u001b[0m     indexer \u001b[39m=\u001b[39m [indexer]\n",
      "File \u001b[1;32mc:\\Users\\MT1070\\Anaconda3\\lib\\site-packages\\pandas\\core\\indexes\\base.py:3623\u001b[0m, in \u001b[0;36mIndex.get_loc\u001b[1;34m(self, key, method, tolerance)\u001b[0m\n\u001b[0;32m   3621\u001b[0m     \u001b[39mreturn\u001b[39;00m \u001b[39mself\u001b[39m\u001b[39m.\u001b[39m_engine\u001b[39m.\u001b[39mget_loc(casted_key)\n\u001b[0;32m   3622\u001b[0m \u001b[39mexcept\u001b[39;00m \u001b[39mKeyError\u001b[39;00m \u001b[39mas\u001b[39;00m err:\n\u001b[1;32m-> 3623\u001b[0m     \u001b[39mraise\u001b[39;00m \u001b[39mKeyError\u001b[39;00m(key) \u001b[39mfrom\u001b[39;00m \u001b[39merr\u001b[39;00m\n\u001b[0;32m   3624\u001b[0m \u001b[39mexcept\u001b[39;00m \u001b[39mTypeError\u001b[39;00m:\n\u001b[0;32m   3625\u001b[0m     \u001b[39m# If we have a listlike key, _check_indexing_error will raise\u001b[39;00m\n\u001b[0;32m   3626\u001b[0m     \u001b[39m#  InvalidIndexError. Otherwise we fall through and re-raise\u001b[39;00m\n\u001b[0;32m   3627\u001b[0m     \u001b[39m#  the TypeError.\u001b[39;00m\n\u001b[0;32m   3628\u001b[0m     \u001b[39mself\u001b[39m\u001b[39m.\u001b[39m_check_indexing_error(key)\n",
      "\u001b[1;31mKeyError\u001b[0m: 'additional_column'"
     ]
    },
    {
     "data": {
      "image/png": "[encoded data removed]",
      "text/plain": [
       "<Figure size 720x1008 with 3 Axes>"
      ]
     },
     "metadata": {
      "needs_background": "light"
     },
     "output_type": "display_data"
    }
   ],
   "source": [
    "# Plotting internal and external call volumes\n",
    "# Creating subplots\n",
    "nrows = 2\n",
    "\n",
    "if nrows == 2:\n",
    "    fig, axes = plt.subplots(nrows=nrows, ncols=1, figsize=(10, 14))\n",
    "\n",
    "    # Plotting the first subplot\n",
    "    ax1 = axes[0]\n",
    "    ax1.plot(filtered_data['date'], filtered_data['total_internal_calls'], 'g')\n",
    "    ax1.set_xlabel('Date')\n",
    "    ax1.set_ylabel('Number of Calls Handled')\n",
    "    ax1.set_title('Total Internal Calls Handled')\n",
    "\n",
    "    # Adjusting the x-axis tick labels\n",
    "    plt.setp(axes[0].xaxis.get_majorticklabels(), rotation=45)\n",
    "\n",
    "    # Creating a twin y-axis for the additional column\n",
    "    ax2 = ax1.twinx()\n",
    "    ax2.plot(filtered_data['date'], filtered_data['additional_column'], 'r')\n",
    "    ax2.set_ylabel('Additional Column')\n",
    "    ax2.tick_params(axis='y', labelcolor='r')\n",
    "\n",
    "\n",
    "    # Plotting the second subplot\n",
    "    axes[1].plot(filtered_data['date'], filtered_data['total_external_calls'], 'b')  # Replace 'column_name2' with the actual second column you want to plot\n",
    "    axes[1].set_xlabel('Date')\n",
    "    axes[1].set_ylabel('Number of Calls Handled')\n",
    "    axes[1].set_title('Total External Calls Handled')\n",
    "\n",
    "    # Formatting the x-axis ticks as \"mm/dd/yy\" format\n",
    "    # axes[1].xaxis.set_major_formatter(mdates.DateFormatter('%m/%d/%y'))\n",
    "\n",
    "    # Adjusting the x-axis tick labels\n",
    "    plt.setp(axes[1].xaxis.get_majorticklabels(), rotation=45)\n",
    "\n",
    "    # Adjusting the spacing between subplots\n",
    "    plt.tight_layout(pad=1.5)\n",
    "\n",
    "    # Displaying the plots\n",
    "    plt.show()\n",
    "\n",
    "elif nrows == 3:\n",
    "    fig, axes = plt.subplots(nrows=nrows, ncols=1, figsize=(10, 14))\n",
    "\n",
    "    # Plotting the first subplot\n",
    "    axes[0].plot(filtered_data['date'], filtered_data['total_internal_calls'], 'g')\n",
    "    axes[0].set_xlabel('Date')\n",
    "    axes[0].set_ylabel('Number of Calls Handled')\n",
    "    axes[0].set_title('Total Internal Calls Handled')\n",
    "\n",
    "    # Formatting the x-axis ticks as \"mm/dd/yy\" format\n",
    "    # axes[0].xaxis.set_major_formatter(mdates.DateFormatter('%m/%d/%y'))\n",
    "\n",
    "    # Adjusting the x-axis tick labels\n",
    "    plt.setp(axes[0].xaxis.get_majorticklabels(), rotation=45)\n",
    "\n",
    "    # Plotting the second subplot\n",
    "    axes[1].plot(filtered_data['date'], filtered_data['total_external_calls'], 'b')  # Replace 'column_name2' with the actual second column you want to plot\n",
    "    axes[1].set_xlabel('Date')\n",
    "    axes[1].set_ylabel('Number of Calls Handled')\n",
    "    axes[1].set_title('Total External Calls Handled')\n",
    "\n",
    "    # Formatting the x-axis ticks as \"mm/dd/yy\" format\n",
    "    # axes[1].xaxis.set_major_formatter(mdates.DateFormatter('%m/%d/%y'))\n",
    "\n",
    "    # Adjusting the x-axis tick labels\n",
    "    plt.setp(axes[1].xaxis.get_majorticklabels(), rotation=45)\n",
    "\n",
    "    # Plotting the third subplot\n",
    "    axes[2].plot(filtered_data['date'], filtered_data['total_calls_transfered'], 'k')  # Replace 'column_name2' with the actual second column you want to plot\n",
    "    axes[2].set_xlabel('Date')\n",
    "    axes[2].set_ylabel('Number of Calls Handled')\n",
    "    axes[2].set_title('Total Calls Transferred')\n",
    "\n",
    "    # Formatting the x-axis ticks as \"mm/dd/yy\" format\n",
    "    # axes[1].xaxis.set_major_formatter(mdates.DateFormatter('%m/%d/%y'))\n",
    "\n",
    "    # Adjusting the x-axis tick labels\n",
    "    plt.setp(axes[2].xaxis.get_majorticklabels(), rotation=45)\n",
    "\n",
    "\n",
    "    # Adjusting the spacing between subplots\n",
    "    plt.tight_layout(pad=1.5)\n",
    "\n",
    "    # Displaying the plots\n",
    "    plt.show()"
   ]
  },
  {
   "attachments": {},
   "cell_type": "markdown",
   "metadata": {},
   "source": [
    "#### Reformat date column and remove rows with 'date' in the date column"
   ]
  },
  {
   "cell_type": "code",
   "execution_count": null,
   "metadata": {},
   "outputs": [],
   "source": [
    "final_sheet['date'] = pd.to_datetime(final_sheet['date'], format='%m/%d/%Y', errors='coerce')\n",
    "final_sheet = final_sheet[~final_sheet['date'].astype(str).str.contains('date', case=False, na=False)]\n",
    "\n",
    "# Group the data set based on calendar date\n",
    "filtered_data = final_sheet.groupby(pd.Grouper(key='date', freq='D')).sum()"
   ]
  },
  {
   "attachments": {},
   "cell_type": "markdown",
   "metadata": {},
   "source": [
    "## Combine data into a new Excel file"
   ]
  },
  {
   "cell_type": "code",
   "execution_count": null,
   "metadata": {},
   "outputs": [],
   "source": [
    "master_file_path = r\"C:\\Users\\MT1070\\Desktop\\Master Call Volume\\SpinSci Call Volume Evaluation.xlsx\"\n",
    "final_sheet.to_excel(master_file_path, sheet_name='Raw Data', header=True, index=False)\n"
   ]
  },
  {
   "attachments": {},
   "cell_type": "markdown",
   "metadata": {},
   "source": [
    "### Graveyard"
   ]
  },
  {
   "cell_type": "code",
   "execution_count": null,
   "metadata": {},
   "outputs": [],
   "source": [
    "# Group the data set based on calendar date\n",
    "# filtered_data = final_sheet.groupby(final_sheet['date'].dt.date).sum()\n",
    "\n",
    "\n",
    "# # Drop rows where 'date' column contains the string 'date'\n",
    "# final_sheet = final_sheet[~final_sheet['date'].str.contains('date', case=False, na=False)]"
   ]
  }
 ],
 "metadata": {
  "kernelspec": {
   "display_name": "base",
   "language": "python",
   "name": "python3"
  },
  "language_info": {
   "codemirror_mode": {
    "name": "ipython",
    "version": 3
   },
   "file_extension": ".py",
   "mimetype": "text/x-python",
   "name": "python",
   "nbconvert_exporter": "python",
   "pygments_lexer": "ipython3",
   "version": "3.9.12"
  },
  "orig_nbformat": 4
 },
 "nbformat": 4,
 "nbformat_minor": 2
}
