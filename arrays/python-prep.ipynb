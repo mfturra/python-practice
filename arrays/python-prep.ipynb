{
 "cells": [
  {
   "cell_type": "markdown",
   "metadata": {},
   "source": [
    "### Merge Sorted Array"
   ]
  },
  {
   "cell_type": "code",
   "execution_count": 17,
   "metadata": {},
   "outputs": [
    {
     "data": {
      "text/plain": [
       "[1]"
      ]
     },
     "execution_count": 17,
     "metadata": {},
     "output_type": "execute_result"
    }
   ],
   "source": [
    "from typing import List\n",
    "\n",
    "class Solution():\n",
    "\n",
    "    def merge(self, nums1: List[int], m: int, nums2: List[int], n: int) -> None:\n",
    "\n",
    "        # create counter for nums2 index\n",
    "        nums2_index = 0\n",
    "\n",
    "        # if m or n are <= 0, return 1\n",
    "        if m <= 0 or n <= 0:\n",
    "            nums1[:] = [1]\n",
    "            return nums1\n",
    "\n",
    "        # iterate through the array\n",
    "        for i in range(0, len(nums1)):\n",
    "            \n",
    "            # locate the cells that equal 0\n",
    "            if nums1[i] == 0:\n",
    "\n",
    "                # replace nums1[i] == 0 with nums2[next_index]\n",
    "                nums1[i] = nums2[nums2_index]\n",
    "                nums2_index += 1\n",
    "\n",
    "\n",
    "        # Sort array (i.e. nums1) in ascending order\n",
    "        nums1.sort()\n",
    "        print(nums1)\n",
    "\n",
    "\n",
    "# # use case #1 input values\n",
    "# nums1 = [1, 2, 3, 0, 0, 0]\n",
    "# m = 3\n",
    "# nums2 = [2, 5, 6]\n",
    "# n = 3\n",
    "\n",
    "# # use case #2 input values\n",
    "# nums1 = [1]\n",
    "# m = 1\n",
    "# nums2 = []\n",
    "# n = 0\n",
    "\n",
    "# # use case #3 input values\n",
    "# nums1 = [0]\n",
    "# m = 0\n",
    "# nums2 = [1]\n",
    "# n = 1\n",
    "\n",
    "nums1 = [0, 0, 0, 0, 0]\n",
    "m = 0\n",
    "nums2 = [1, 2, 3, 4, 5]\n",
    "n = 5\n",
    "\n",
    "# Create a new instance of solution\n",
    "solution = Solution()\n",
    "\n",
    "# utilize the object merge to perform an action\n",
    "solution.merge(nums1, m, nums2, n)\n",
    "\n"
   ]
  },
  {
   "cell_type": "markdown",
   "metadata": {},
   "source": [
    "### Remove Element"
   ]
  },
  {
   "cell_type": "code",
   "execution_count": 32,
   "metadata": {},
   "outputs": [
    {
     "name": "stdout",
     "output_type": "stream",
     "text": [
      "0\n",
      "1\n",
      "2\n",
      "3\n",
      "4\n",
      "5\n",
      "6\n",
      "6, nums = [0, 1, 2, 3, 0, 4]\n"
     ]
    }
   ],
   "source": [
    "class Solution:\n",
    "    def removeElement(self, nums: List[int], val: int) -> int:\n",
    "        # iterate through nums array using index and value of nums\n",
    "        for i in range(0, len(nums)-1):\n",
    "            print(i)\n",
    "            # check if val is in array\n",
    "            if nums[i] == val:\n",
    "                \n",
    "                # delete val at their respective nums[i] index\n",
    "                del nums[i]\n",
    "\n",
    "            else:\n",
    "                i = i+1\n",
    "\n",
    "        # Create a specifically formatted output\n",
    "        print(f'{len(nums)}, nums = {nums}')\n",
    "\n",
    "        # print(nums)\n",
    "\n",
    "\n",
    "# # use case #1 inputs\n",
    "# nums = [3, 2, 2, 3]\n",
    "# val = 3\n",
    "\n",
    "# use case #2 inputs\n",
    "nums = [0,1,2,2,3,0,4,2]\n",
    "val = 2\n",
    "\n",
    "# Instantiate solution class\n",
    "solution = Solution()\n",
    "solution.removeElement(nums, val)"
   ]
  },
  {
   "cell_type": "code",
   "execution_count": null,
   "metadata": {},
   "outputs": [],
   "source": []
  }
 ],
 "metadata": {
  "kernelspec": {
   "display_name": "Python 3",
   "language": "python",
   "name": "python3"
  },
  "language_info": {
   "codemirror_mode": {
    "name": "ipython",
    "version": 3
   },
   "file_extension": ".py",
   "mimetype": "text/x-python",
   "name": "python",
   "nbconvert_exporter": "python",
   "pygments_lexer": "ipython3",
   "version": "3.11.5"
  }
 },
 "nbformat": 4,
 "nbformat_minor": 2
}
