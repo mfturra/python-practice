{
 "cells": [
  {
   "cell_type": "markdown",
   "metadata": {},
   "source": [
    "### Class Development\n",
    "self can be replaced with anything in both the init and str functions. For the str function, as long as the input is called correctly, the actual name doesn't matter."
   ]
  },
  {
   "cell_type": "code",
   "execution_count": null,
   "metadata": {},
   "outputs": [],
   "source": [
    "class RecipeList:\n",
    "    def __init__(self, name, description, time):\n",
    "        self.name = name\n",
    "        self.description = description\n",
    "        self.time = time\n",
    "    \n",
    "    def __str__(self): # input = self\n",
    "        return f\"{self.name} is a {self.description}\" # output\n",
    "\n",
    "# RecipeList = []\n",
    "a = RecipeList(\"Pecan Pie\", \"sweet holiday pie\", 60)"
   ]
  },
  {
   "cell_type": "code",
   "execution_count": null,
   "metadata": {},
   "outputs": [],
   "source": [
    "# Outputting a list object properties\n",
    "print(a.name)\n",
    "print(a.description)\n",
    "print(a) # Outputting the raw object\n",
    "\n",
    "# Modifying a list property\n",
    "a.time = 100 \n",
    "print(a.time)\n",
    "\n",
    "# Deleting a list property\n",
    "del a.time\n",
    "# print(a.time)\n"
   ]
  },
  {
   "cell_type": "code",
   "execution_count": null,
   "metadata": {},
   "outputs": [],
   "source": [
    "b = []\n",
    "\n",
    "for x in range(5):\n",
    "    b.append(0)\n",
    "\n",
    "print(b)"
   ]
  },
  {
   "cell_type": "markdown",
   "metadata": {},
   "source": [
    "## Loops"
   ]
  },
  {
   "cell_type": "markdown",
   "metadata": {},
   "source": [
    "### Creating Lists with loops"
   ]
  },
  {
   "cell_type": "code",
   "execution_count": null,
   "metadata": {},
   "outputs": [],
   "source": [
    "for x in range(10):\n",
    "    print((x+1) * (x+1))"
   ]
  },
  {
   "cell_type": "markdown",
   "metadata": {},
   "source": [
    "### Creating Lists with loops and corresponding function"
   ]
  },
  {
   "cell_type": "code",
   "execution_count": null,
   "metadata": {},
   "outputs": [],
   "source": [
    "def loopyloop(num):\n",
    "    for x in range(num):\n",
    "        print((x+1) * (x+1))\n",
    "\n",
    "loopyloop(5)"
   ]
  },
  {
   "cell_type": "markdown",
   "metadata": {},
   "source": [
    "## Verifying Capacity vs Length\n",
    "\n",
    "Length (i.e. count or size), when applied to a list or an array, can be evaluated using the len() function. It outputs the number of elements that are available. \n",
    "\n",
    "Capacity refers to the maximum number of elements a data structure can hold. sys.getsize() can be used to estimate the memory usage of an object."
   ]
  },
  {
   "cell_type": "code",
   "execution_count": null,
   "metadata": {},
   "outputs": [],
   "source": [
    "list_of_numbers = []\n",
    "for x in range(5):\n",
    "    list_of_numbers.append(x)\n",
    "\n",
    "print(list_of_numbers)\n",
    "len(list_of_numbers)"
   ]
  },
  {
   "cell_type": "markdown",
   "metadata": {},
   "source": [
    "A more memory efficient method for creating an array/list would involve allocating a specific amount of memory to the list prior to using it as seen below"
   ]
  },
  {
   "cell_type": "code",
   "execution_count": null,
   "metadata": {},
   "outputs": [],
   "source": [
    "array_length = 15\n",
    "\n",
    "itemized = [None] * array_length\n",
    "\n",
    "print(itemized)"
   ]
  },
  {
   "cell_type": "code",
   "execution_count": null,
   "metadata": {},
   "outputs": [],
   "source": []
  }
 ],
 "metadata": {
  "kernelspec": {
   "display_name": "Python 3",
   "language": "python",
   "name": "python3"
  },
  "language_info": {
   "codemirror_mode": {
    "name": "ipython",
    "version": 3
   },
   "file_extension": ".py",
   "mimetype": "text/x-python",
   "name": "python",
   "nbconvert_exporter": "python",
   "pygments_lexer": "ipython3",
   "version": "3.11.5"
  }
 },
 "nbformat": 4,
 "nbformat_minor": 2
}
