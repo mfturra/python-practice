{
 "cells": [
  {
   "cell_type": "markdown",
   "metadata": {},
   "source": [
    "### Class Development\n",
    "self can be replaced with anything in both the init and str functions. For the str function, as long as the input is called correctly, the actual name doesn't matter."
   ]
  },
  {
   "cell_type": "code",
   "execution_count": null,
   "metadata": {},
   "outputs": [],
   "source": [
    "class RecipeList:\n",
    "    def __init__(self, name, description, time):\n",
    "        self.name = name\n",
    "        self.description = description\n",
    "        self.time = time\n",
    "    \n",
    "    def __str__(self): # input = self\n",
    "        return f\"{self.name} is a {self.description}\" # output\n",
    "\n",
    "# RecipeList = []\n",
    "a = RecipeList(\"Pecan Pie\", \"sweet holiday pie\", 60)"
   ]
  },
  {
   "cell_type": "code",
   "execution_count": null,
   "metadata": {},
   "outputs": [],
   "source": [
    "# Outputting a list object properties\n",
    "print(a.name)\n",
    "print(a.description)\n",
    "print(a) # Outputting the raw object\n",
    "\n",
    "# Modifying a list property\n",
    "a.time = 100 \n",
    "print(a.time)\n",
    "\n",
    "# Deleting a list property\n",
    "del a.time\n",
    "# print(a.time)\n"
   ]
  },
  {
   "cell_type": "code",
   "execution_count": null,
   "metadata": {},
   "outputs": [],
   "source": [
    "b = []\n",
    "\n",
    "for x in range(5):\n",
    "    b.append(0)\n",
    "\n",
    "print(b)"
   ]
  },
  {
   "cell_type": "markdown",
   "metadata": {},
   "source": [
    "## Loops"
   ]
  },
  {
   "cell_type": "markdown",
   "metadata": {},
   "source": [
    "### Creating Lists with loops"
   ]
  },
  {
   "cell_type": "code",
   "execution_count": null,
   "metadata": {},
   "outputs": [],
   "source": [
    "for x in range(10):\n",
    "    print((x+1) * (x+1))"
   ]
  },
  {
   "cell_type": "markdown",
   "metadata": {},
   "source": [
    "### Creating Lists with loops and corresponding function"
   ]
  },
  {
   "cell_type": "code",
   "execution_count": null,
   "metadata": {},
   "outputs": [],
   "source": [
    "def loopyloop(num):\n",
    "    for x in range(num):\n",
    "        print((x+1) * (x+1))\n",
    "\n",
    "loopyloop(5)"
   ]
  },
  {
   "cell_type": "markdown",
   "metadata": {},
   "source": [
    "## Verifying Capacity vs Length\n",
    "\n",
    "Length (i.e. count or size), when applied to a list or an array, can be evaluated using the len() function. It outputs the number of elements that are available. \n",
    "\n",
    "Capacity refers to the maximum number of elements a data structure can hold. sys.getsize() can be used to estimate the memory usage of an object."
   ]
  },
  {
   "cell_type": "code",
   "execution_count": null,
   "metadata": {},
   "outputs": [],
   "source": [
    "list_of_numbers = []\n",
    "for x in range(5):\n",
    "    list_of_numbers.append(x)\n",
    "\n",
    "print(list_of_numbers)\n",
    "len(list_of_numbers)"
   ]
  },
  {
   "cell_type": "markdown",
   "metadata": {},
   "source": [
    "A more memory efficient method for creating an array/list would involve allocating a specific amount of memory to the list prior to using it as seen below"
   ]
  },
  {
   "cell_type": "code",
   "execution_count": null,
   "metadata": {},
   "outputs": [],
   "source": [
    "array_length = 15\n",
    "itemized = [None] * array_length\n",
    "\n",
    "for i in range(5):\n",
    "    itemized[i] = i\n",
    "\n",
    "## Method 1: Count unused elements in a list\n",
    "# used_cells = sum(1 for j in itemized if j is not None)\n",
    "# unused_cells = len(itemized) - used_cells\n",
    "\n",
    "# Method 2: Count unused elements in a list\n",
    "unused_cells = itemized.count(None)\n",
    "\n",
    "print(used_cells)\n",
    "# print(itemized)"
   ]
  },
  {
   "cell_type": "markdown",
   "metadata": {},
   "source": [
    "### Max Consecutive Ones (Leet Code Practice)"
   ]
  },
  {
   "cell_type": "code",
   "execution_count": 50,
   "metadata": {},
   "outputs": [
    {
     "name": "stdout",
     "output_type": "stream",
     "text": [
      "There are no consecutive ones found.\n"
     ]
    }
   ],
   "source": [
    "# When given a binary array of nums, return the max number of consecutive 1's in the array.\n",
    "# num = [1, 1, 0, 0, 1, 1, 1]\n",
    "num = [1, 1, 0, 1, 1, 1, 0, 0]\n",
    "\n",
    "# Create elements for the start and end of the indice of choice\n",
    "consec_ones_windows = []\n",
    "\n",
    "# Initialize variables\n",
    "consec_ones_start = None\n",
    "\n",
    "# Use for loop to identify the index of the consec ones\n",
    "for i, value in enumerate(num):\n",
    "    if value == 1:\n",
    "        # Notate the start of the window of consec values\n",
    "        if consec_ones_start is None:\n",
    "            consec_ones_start = i\n",
    "    elif value == 0 and consec_ones_start is not None:\n",
    "        # Notate the end of the window of consec values\n",
    "        consec_ones_windows.append((consec_ones_start, i - 1))\n",
    "        consec_ones_start = None\n",
    "\n",
    "# Print result\n",
    "if consec_ones_start is not None:\n",
    "    consec_ones_windows.append(consec_ones_start, len(num) - 1)\n",
    "\n",
    "\n",
    "if consec_ones_windows:\n",
    "    print(f\"The start and end are {consec_ones_start} and {consec_ones_end}\")\n",
    "else:\n",
    "    print(\"There are no consecutive ones found.\")\n",
    "\n",
    "# consec_ones = 0\n",
    "# print(consec_ones)"
   ]
  },
  {
   "cell_type": "code",
   "execution_count": 53,
   "metadata": {},
   "outputs": [
    {
     "name": "stdout",
     "output_type": "stream",
     "text": [
      "4\n"
     ]
    }
   ],
   "source": [
    "binary_array = [1, 1, 0, 0, 1, 1, 1, 1, 0, 0, 0, 1, 1]\n",
    "\n",
    "max_consecutive_ones = 0\n",
    "current_consec_ones = 0\n",
    "\n",
    "for num in binary_array:\n",
    "    if num == 1:\n",
    "        # Increment consecutive ones counter\n",
    "        current_consec_ones += 1\n",
    "    else:\n",
    "        max_consecutive_ones = max(max_consecutive_ones, current_consec_ones)\n",
    "        current_consec_ones = 0\n",
    "\n",
    "max_consecutive_ones = max(max_consecutive_ones, current_consec_ones)\n",
    "\n",
    "print(max_consecutive_ones)\n",
    "# return max_consecutive_ones"
   ]
  },
  {
   "cell_type": "code",
   "execution_count": 54,
   "metadata": {},
   "outputs": [
    {
     "name": "stdout",
     "output_type": "stream",
     "text": [
      "11\n"
     ]
    }
   ],
   "source": [
    "max_num = [2, 3, 5, 8, 10, 4, 11, 10, 2]\n",
    "\n",
    "print(max(max_num))"
   ]
  },
  {
   "cell_type": "code",
   "execution_count": null,
   "metadata": {},
   "outputs": [],
   "source": []
  }
 ],
 "metadata": {
  "kernelspec": {
   "display_name": "Python 3",
   "language": "python",
   "name": "python3"
  },
  "language_info": {
   "codemirror_mode": {
    "name": "ipython",
    "version": 3
   },
   "file_extension": ".py",
   "mimetype": "text/x-python",
   "name": "python",
   "nbconvert_exporter": "python",
   "pygments_lexer": "ipython3",
   "version": "3.11.5"
  }
 },
 "nbformat": 4,
 "nbformat_minor": 2
}
