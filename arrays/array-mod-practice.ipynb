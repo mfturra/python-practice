{
 "cells": [
  {
   "cell_type": "markdown",
   "metadata": {},
   "source": [
    "## 1.0 Multiple methods to modify elements in an array"
   ]
  },
  {
   "cell_type": "markdown",
   "metadata": {},
   "source": [
    "### 1.1 Add elements to an array"
   ]
  },
  {
   "cell_type": "code",
   "execution_count": 5,
   "metadata": {},
   "outputs": [
    {
     "name": "stdout",
     "output_type": "stream",
     "text": [
      "['Alpha', 'Bravo', 'Charlie', 'Delta', 'Echo', None, 'Foxtrot']\n"
     ]
    }
   ],
   "source": [
    "# Create an array instance of a set size\n",
    "practiceRay = [None] * 6\n",
    "\n",
    "# Insert multiple values in array from index 0 to 2\n",
    "practiceRay[:3] = [\"Alpha\", \"Bravo\", \"Charlie\"]\n",
    "\n",
    "# Method #1: Insert values in specific elements in array\n",
    "practiceRay[3], practiceRay[4] = \"Delta\", \"Echo\"\n",
    "\n",
    "# Method #2: Insert single value in single element in array using append\n",
    "practiceRay.append(\"Foxtrot\") # Increases size of array and adds value to end of array\n",
    "\n",
    "# Print cumulative output\n",
    "print(practiceRay)"
   ]
  },
  {
   "cell_type": "markdown",
   "metadata": {},
   "source": [
    "### 1.2 Remove elements from an array"
   ]
  },
  {
   "cell_type": "code",
   "execution_count": 6,
   "metadata": {},
   "outputs": [
    {
     "data": {
      "text/plain": [
       "'Echo'"
      ]
     },
     "execution_count": 6,
     "metadata": {},
     "output_type": "execute_result"
    }
   ],
   "source": [
    "# Remove a single element in the array\n",
    "practiceRay.pop(4) # Output becomes the value that was removed"
   ]
  },
  {
   "cell_type": "code",
   "execution_count": 7,
   "metadata": {},
   "outputs": [
    {
     "name": "stdout",
     "output_type": "stream",
     "text": [
      "['Alpha', 'Bravo', 'Charlie', 'Delta', None, 'Foxtrot']\n"
     ]
    }
   ],
   "source": [
    "# Output the newly modified array\n",
    "print(practiceRay)"
   ]
  },
  {
   "cell_type": "code",
   "execution_count": 8,
   "metadata": {},
   "outputs": [
    {
     "name": "stdout",
     "output_type": "stream",
     "text": [
      "['Alpha', 'Bravo', 'Charlie', None, 'Foxtrot']\n"
     ]
    }
   ],
   "source": [
    "# Remove an array by calling out the specific value that needs to be removed\n",
    "practiceRay.remove(\"Delta\")\n",
    "print(practiceRay)"
   ]
  },
  {
   "cell_type": "markdown",
   "metadata": {},
   "source": [
    "#### 1.3 Modify Front & Back Elements of Array"
   ]
  },
  {
   "cell_type": "code",
   "execution_count": 9,
   "metadata": {},
   "outputs": [
    {
     "name": "stdout",
     "output_type": "stream",
     "text": [
      "['Pineapple', 'Guava', 'Whiskey', 'Charlie', None, 'Foxtrot']\n"
     ]
    }
   ],
   "source": [
    "practiceRay[:-3] = [\"Pineapple\", \"Guava\", \"Whiskey\"]\n",
    "print(practiceRay)"
   ]
  },
  {
   "cell_type": "code",
   "execution_count": 10,
   "metadata": {},
   "outputs": [
    {
     "name": "stdout",
     "output_type": "stream",
     "text": [
      "['Pineapple', 'Guava', 'Whiskey', 'Sahara', 'Romeo', 'Uniform']\n"
     ]
    }
   ],
   "source": [
    "practiceRay[-3:] = (['Sahara', 'Romeo', 'Uniform'])\n",
    "print(practiceRay)"
   ]
  },
  {
   "cell_type": "markdown",
   "metadata": {},
   "source": [
    "#### 1.4 Append Elements to Front & Back of Array"
   ]
  },
  {
   "cell_type": "code",
   "execution_count": 11,
   "metadata": {},
   "outputs": [
    {
     "name": "stdout",
     "output_type": "stream",
     "text": [
      "['Apple', 'Pineapple', 'Guava', 'Whiskey', 'Sahara', 'Romeo', 'Uniform']\n"
     ]
    }
   ],
   "source": [
    "# Insert a single element to front of array\n",
    "practiceRay.insert(0, \"Apple\")\n",
    "\n",
    "print(practiceRay)"
   ]
  },
  {
   "cell_type": "code",
   "execution_count": 12,
   "metadata": {},
   "outputs": [
    {
     "name": "stdout",
     "output_type": "stream",
     "text": [
      "['Banana', 'Apple', 'Pineapple', 'Guava', 'Whiskey', 'Sahara', 'Romeo', 'Uniform']\n"
     ]
    }
   ],
   "source": [
    "# Use list slicing to add a new element to the start of the array\n",
    "practiceRay[:0] = [\"Banana\"]\n",
    "\n",
    "print(practiceRay)"
   ]
  },
  {
   "cell_type": "code",
   "execution_count": 13,
   "metadata": {},
   "outputs": [
    {
     "name": "stdout",
     "output_type": "stream",
     "text": [
      "['Cantelope', 'Date', 'Banana', 'Apple', 'Pineapple', 'Guava', 'Whiskey', 'Sahara', 'Romeo', 'Uniform']\n"
     ]
    }
   ],
   "source": [
    "## Use extend() to add an element to the start of the array\n",
    "\n",
    "# Creates a new array\n",
    "extendedArray = [\"Cantelope\", \"Date\"]\n",
    "\n",
    "# Adds the previous list to the end of the new array\n",
    "extendedArray.extend(practiceRay)\n",
    "\n",
    "print(extendedArray)"
   ]
  },
  {
   "cell_type": "markdown",
   "metadata": {},
   "source": [
    "#### 1.5 Merging a Sorted Array (LeetCode)"
   ]
  },
  {
   "cell_type": "code",
   "execution_count": 6,
   "metadata": {},
   "outputs": [
    {
     "name": "stdout",
     "output_type": "stream",
     "text": [
      "[1]\n"
     ]
    }
   ],
   "source": [
    "# nums1 = [1, 2, 3, 0, 0, 0]\n",
    "nums1 = [0]\n",
    "m = 0\n",
    "# nums2 = [2, 5, 6]\n",
    "nums2 = [1]\n",
    "n = 1\n",
    "\n",
    "# If m's greater than 0, merge nums1 and nums2\n",
    "if m > 0 and n > 0:\n",
    "\n",
    "    ## enumerate returns index and value with the loop unpacking the index of values that are nonzero\n",
    "    # Output pulls the index and value that is non-zero\n",
    "    # non_zero_indices = [(index, value) for index, value in enumerate(nums1) if value != 0]\n",
    "    \n",
    "    # output pulls the index and non-zero value from the array and creates a 2 x 6 list\n",
    "    # non_zero_indices = [value for value in enumerate(nums1) if value != 0]\n",
    "\n",
    "    # output pulls just the non-zero value from the array\n",
    "    non_zero_num1_indices = [value for value in nums1 if value != 0]\n",
    "    \n",
    "    # Combines both arrays together\n",
    "    merged_indices = non_zero_num1_indices + nums2\n",
    "\n",
    "    # Sorts array in ascending order, remove sort() from code\n",
    "    merged_indices.sort()\n",
    "\n",
    "    # print(non_zero_indices)\n",
    "    print(merged_indices)\n",
    "\n",
    "else:\n",
    "    if m == 0:\n",
    "        nums1 = nums2\n",
    "        print(nums1)    \n",
    "    else:\n",
    "        print(nums1)\n"
   ]
  },
  {
   "cell_type": "markdown",
   "metadata": {},
   "source": [
    "#### Utilize a manual sorting workflow"
   ]
  },
  {
   "cell_type": "code",
   "execution_count": 40,
   "metadata": {},
   "outputs": [
    {
     "data": {
      "text/plain": [
       "3"
      ]
     },
     "execution_count": 40,
     "metadata": {},
     "output_type": "execute_result"
    }
   ],
   "source": [
    "nums1 = [1, 2, 3, 0, 0, 0]\n",
    "m = 3\n",
    "nums2 = [2, 5, 6]\n",
    "n = 3\n",
    "\n",
    "if m > 0 and n > 0:\n",
    "    # output pulls just the non-zero value from the array\n",
    "    non_zero_num1_indices = [value for value in nums1 if value != 0]\n",
    "    \n",
    "    # Combines both arrays together\n",
    "    merged_indices = non_zero_num1_indices + nums2\n",
    "\n",
    "    # Sorts array in ascending order, remove sort() from code\n",
    "    # iterate through the list\n",
    "    for i in merged_indices:\n",
    "        sorted_array[i] = \n",
    "\n",
    "    if i == 1:\n",
    "        # Increment consecutive ones counter\n",
    "        current_consec_ones += 1\n",
    "    else:\n",
    "        max_consecutive_ones = max(max_consecutive_ones, current_consec_ones)\n",
    "        current_consec_ones = 0\n",
    "\n",
    "    max_consecutive_ones = max(max_consecutive_ones, current_consec_ones)\n",
    "    \n",
    "\n",
    "    # print(non_zero_indices)\n",
    "    print(merged_indices)\n",
    "\n",
    "else:\n",
    "    if m == 0:\n",
    "        nums1 = nums2\n",
    "        print(nums1)    \n",
    "    else:\n",
    "        print(nums1)\n",
    "    "
   ]
  },
  {
   "cell_type": "code",
   "execution_count": 13,
   "metadata": {},
   "outputs": [
    {
     "name": "stdout",
     "output_type": "stream",
     "text": [
      "[1, 2, 3, 4, 5, 6]\n"
     ]
    }
   ],
   "source": [
    "example = [1, 2, 3, 4, 5, 6]\n",
    "example = [6, 5, 4, 3, 2, 1]\n",
    "n = len(example)\n",
    "\n",
    "for i in range(0, len(example)):    # iterate through the list without going out of range\n",
    "    for j in range(i+1, n):         # iterate through list starting at i+1\n",
    "        if(example[i]>example[j]):  # compare the values against one another\n",
    "            answer = example[i]     # store greater value in answer\n",
    "            example[i] = example[j] # change the original value in example[i] with its next value\n",
    "            example[j] = answer     # store the greater value in example[j] to iteratively compare it against the next example[i]\n",
    "\n",
    "print(example)\n",
    "\n",
    "\n",
    "# for i, value in enumerate(example):\n",
    "#     ex2[i] = min(example)"
   ]
  },
  {
   "cell_type": "code",
   "execution_count": null,
   "metadata": {},
   "outputs": [],
   "source": []
  }
 ],
 "metadata": {
  "kernelspec": {
   "display_name": "Python 3",
   "language": "python",
   "name": "python3"
  },
  "language_info": {
   "codemirror_mode": {
    "name": "ipython",
    "version": 3
   },
   "file_extension": ".py",
   "mimetype": "text/x-python",
   "name": "python",
   "nbconvert_exporter": "python",
   "pygments_lexer": "ipython3",
   "version": "3.11.5"
  }
 },
 "nbformat": 4,
 "nbformat_minor": 2
}
