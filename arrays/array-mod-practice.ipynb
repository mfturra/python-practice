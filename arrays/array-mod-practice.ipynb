{
 "cells": [
  {
   "cell_type": "markdown",
   "metadata": {},
   "source": [
    "## 1.0 Multiple methods to modify elements in an array"
   ]
  },
  {
   "cell_type": "markdown",
   "metadata": {},
   "source": [
    "### 1.1 Add elements to an array"
   ]
  },
  {
   "cell_type": "code",
   "execution_count": 68,
   "metadata": {},
   "outputs": [
    {
     "name": "stdout",
     "output_type": "stream",
     "text": [
      "['Alpha', 'Bravo', 'Charlie', 'Delta', 'Echo', None, 'Foxtrot']\n"
     ]
    }
   ],
   "source": [
    "# Create an array instance of a set size\n",
    "practiceRay = [None] * 6\n",
    "\n",
    "# Insert multiple values in array from index 0 to 2\n",
    "practiceRay[:3] = [\"Alpha\", \"Bravo\", \"Charlie\"]\n",
    "\n",
    "# Method #1: Insert values in specific elements in array\n",
    "practiceRay[3], practiceRay[4] = \"Delta\", \"Echo\"\n",
    "\n",
    "# Method #2: Insert single value in single element in array using append\n",
    "practiceRay.append(\"Foxtrot\") # Increases size of array and adds value to end of array\n",
    "\n",
    "# Print cumulative output\n",
    "print(practiceRay)"
   ]
  },
  {
   "cell_type": "markdown",
   "metadata": {},
   "source": [
    "### 1.2 Remove elements from an array"
   ]
  },
  {
   "cell_type": "code",
   "execution_count": 69,
   "metadata": {},
   "outputs": [
    {
     "data": {
      "text/plain": [
       "'Echo'"
      ]
     },
     "execution_count": 69,
     "metadata": {},
     "output_type": "execute_result"
    }
   ],
   "source": [
    "# Remove a single element in the array\n",
    "practiceRay.pop(4) # Output becomes the value that was removed"
   ]
  },
  {
   "cell_type": "code",
   "execution_count": 70,
   "metadata": {},
   "outputs": [
    {
     "name": "stdout",
     "output_type": "stream",
     "text": [
      "['Alpha', 'Bravo', 'Charlie', 'Delta', None, 'Foxtrot']\n"
     ]
    }
   ],
   "source": [
    "# Output the newly modified array\n",
    "print(practiceRay)"
   ]
  },
  {
   "cell_type": "code",
   "execution_count": 71,
   "metadata": {},
   "outputs": [
    {
     "name": "stdout",
     "output_type": "stream",
     "text": [
      "['Alpha', 'Bravo', 'Charlie', None, 'Foxtrot']\n"
     ]
    }
   ],
   "source": [
    "# Remove an array by calling out the specific value that needs to be removed\n",
    "practiceRay.remove(\"Delta\")\n",
    "print(practiceRay)"
   ]
  },
  {
   "cell_type": "markdown",
   "metadata": {},
   "source": [
    "#### 1.3 Modify Front & Back Elements of Array"
   ]
  },
  {
   "cell_type": "code",
   "execution_count": 72,
   "metadata": {},
   "outputs": [
    {
     "name": "stdout",
     "output_type": "stream",
     "text": [
      "['Pineapple', 'Guava', 'Whiskey', 'Charlie', None, 'Foxtrot']\n"
     ]
    }
   ],
   "source": [
    "practiceRay[:-3] = [\"Pineapple\", \"Guava\", \"Whiskey\"]\n",
    "print(practiceRay)"
   ]
  },
  {
   "cell_type": "code",
   "execution_count": 73,
   "metadata": {},
   "outputs": [
    {
     "name": "stdout",
     "output_type": "stream",
     "text": [
      "['Pineapple', 'Guava', 'Whiskey', 'Sahara', 'Romeo', 'Uniform']\n"
     ]
    }
   ],
   "source": [
    "practiceRay[-3:] = (['Sahara', 'Romeo', 'Uniform'])\n",
    "print(practiceRay)"
   ]
  },
  {
   "cell_type": "markdown",
   "metadata": {},
   "source": [
    "#### 1.4 Append Elements to Front & Back of Array"
   ]
  },
  {
   "cell_type": "code",
   "execution_count": 74,
   "metadata": {},
   "outputs": [
    {
     "name": "stdout",
     "output_type": "stream",
     "text": [
      "['Apple', 'Pineapple', 'Guava', 'Whiskey', 'Sahara', 'Romeo', 'Uniform']\n"
     ]
    }
   ],
   "source": [
    "# Insert a single element to front of array\n",
    "practiceRay.insert(0, \"Apple\")\n",
    "\n",
    "print(practiceRay)"
   ]
  },
  {
   "cell_type": "code",
   "execution_count": 75,
   "metadata": {},
   "outputs": [
    {
     "name": "stdout",
     "output_type": "stream",
     "text": [
      "['Banana', 'Apple', 'Pineapple', 'Guava', 'Whiskey', 'Sahara', 'Romeo', 'Uniform']\n"
     ]
    }
   ],
   "source": [
    "# Use list slicing to add a new element to the start of the array\n",
    "practiceRay[:0] = [\"Banana\"]\n",
    "\n",
    "print(practiceRay)"
   ]
  },
  {
   "cell_type": "code",
   "execution_count": 78,
   "metadata": {},
   "outputs": [
    {
     "name": "stdout",
     "output_type": "stream",
     "text": [
      "['Cantelope', 'Date', 'Banana', 'Apple', 'Pineapple', 'Guava', 'Whiskey', 'Sahara', 'Romeo', 'Uniform']\n"
     ]
    }
   ],
   "source": [
    "## Use extend() to add an element to the start of the array\n",
    "\n",
    "# Creates a new array\n",
    "extendedArray = [\"Cantelope\", \"Date\"]\n",
    "\n",
    "# Adds the previous list to the end of the new array\n",
    "extendedArray.extend(practiceRay)\n",
    "\n",
    "print(extendedArray)"
   ]
  },
  {
   "cell_type": "code",
   "execution_count": null,
   "metadata": {},
   "outputs": [],
   "source": []
  }
 ],
 "metadata": {
  "kernelspec": {
   "display_name": "Python 3",
   "language": "python",
   "name": "python3"
  },
  "language_info": {
   "codemirror_mode": {
    "name": "ipython",
    "version": 3
   },
   "file_extension": ".py",
   "mimetype": "text/x-python",
   "name": "python",
   "nbconvert_exporter": "python",
   "pygments_lexer": "ipython3",
   "version": "3.11.5"
  }
 },
 "nbformat": 4,
 "nbformat_minor": 2
}
