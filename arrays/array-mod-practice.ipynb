{
 "cells": [
  {
   "cell_type": "markdown",
   "metadata": {},
   "source": [
    "## 1.0 Multiple methods to modify elements in an array"
   ]
  },
  {
   "cell_type": "markdown",
   "metadata": {},
   "source": [
    "### 1.1 Add elements to an array"
   ]
  },
  {
   "cell_type": "code",
   "execution_count": 1,
   "metadata": {},
   "outputs": [
    {
     "name": "stdout",
     "output_type": "stream",
     "text": [
      "['Alpha', 'Bravo', 'Charlie', 'Delta', 'Echo', None, 'Foxtrot']\n"
     ]
    }
   ],
   "source": [
    "# Create an array instance of a set size\n",
    "practiceRay = [None] * 6\n",
    "\n",
    "# Insert multiple values in array from index 0 to 2\n",
    "practiceRay[:3] = [\"Alpha\", \"Bravo\", \"Charlie\"]\n",
    "\n",
    "# Method #1: Insert values in specific elements in array\n",
    "practiceRay[3], practiceRay[4] = \"Delta\", \"Echo\"\n",
    "\n",
    "# Method #2: Insert single value in single element in array using append\n",
    "practiceRay.append(\"Foxtrot\") # Increases size of array and adds value to end of array\n",
    "\n",
    "# Print cumulative output\n",
    "print(practiceRay)"
   ]
  },
  {
   "cell_type": "markdown",
   "metadata": {},
   "source": [
    "### 1.2 Remove elements from an array"
   ]
  },
  {
   "cell_type": "code",
   "execution_count": 2,
   "metadata": {},
   "outputs": [
    {
     "data": {
      "text/plain": [
       "'Echo'"
      ]
     },
     "execution_count": 2,
     "metadata": {},
     "output_type": "execute_result"
    }
   ],
   "source": [
    "# Remove a single element in the array\n",
    "practiceRay.pop(4) # Output becomes the value that was removed"
   ]
  },
  {
   "cell_type": "code",
   "execution_count": 3,
   "metadata": {},
   "outputs": [
    {
     "name": "stdout",
     "output_type": "stream",
     "text": [
      "['Alpha', 'Bravo', 'Charlie', 'Delta', None, 'Foxtrot']\n"
     ]
    }
   ],
   "source": [
    "# Output the newly modified array\n",
    "print(practiceRay)"
   ]
  },
  {
   "cell_type": "code",
   "execution_count": 4,
   "metadata": {},
   "outputs": [
    {
     "name": "stdout",
     "output_type": "stream",
     "text": [
      "['Alpha', 'Bravo', 'Charlie', None, 'Foxtrot']\n"
     ]
    }
   ],
   "source": [
    "# Remove an array by calling out the specific value that needs to be removed\n",
    "practiceRay.remove(\"Delta\")\n",
    "print(practiceRay)"
   ]
  },
  {
   "cell_type": "markdown",
   "metadata": {},
   "source": [
    "#### 1.3 Modify Front & Back Elements of Array"
   ]
  },
  {
   "cell_type": "code",
   "execution_count": 5,
   "metadata": {},
   "outputs": [
    {
     "name": "stdout",
     "output_type": "stream",
     "text": [
      "['Pineapple', 'Guava', 'Whiskey', 'Charlie', None, 'Foxtrot']\n"
     ]
    }
   ],
   "source": [
    "practiceRay[:-3] = [\"Pineapple\", \"Guava\", \"Whiskey\"]\n",
    "print(practiceRay)"
   ]
  },
  {
   "cell_type": "code",
   "execution_count": 6,
   "metadata": {},
   "outputs": [
    {
     "name": "stdout",
     "output_type": "stream",
     "text": [
      "['Pineapple', 'Guava', 'Whiskey', 'Sahara', 'Romeo', 'Uniform']\n"
     ]
    }
   ],
   "source": [
    "practiceRay[-3:] = (['Sahara', 'Romeo', 'Uniform'])\n",
    "print(practiceRay)"
   ]
  },
  {
   "cell_type": "markdown",
   "metadata": {},
   "source": [
    "#### 1.4 Append Elements to Front & Back of Array"
   ]
  },
  {
   "cell_type": "code",
   "execution_count": 7,
   "metadata": {},
   "outputs": [
    {
     "name": "stdout",
     "output_type": "stream",
     "text": [
      "['Apple', 'Pineapple', 'Guava', 'Whiskey', 'Sahara', 'Romeo', 'Uniform']\n"
     ]
    }
   ],
   "source": [
    "# Insert a single element to front of array\n",
    "practiceRay.insert(0, \"Apple\")\n",
    "\n",
    "print(practiceRay)"
   ]
  },
  {
   "cell_type": "code",
   "execution_count": 8,
   "metadata": {},
   "outputs": [
    {
     "name": "stdout",
     "output_type": "stream",
     "text": [
      "['Banana', 'Apple', 'Pineapple', 'Guava', 'Whiskey', 'Sahara', 'Romeo', 'Uniform']\n"
     ]
    }
   ],
   "source": [
    "# Use list slicing to add a new element to the start of the array\n",
    "practiceRay[:0] = [\"Banana\"]\n",
    "\n",
    "print(practiceRay)"
   ]
  },
  {
   "cell_type": "code",
   "execution_count": 9,
   "metadata": {},
   "outputs": [
    {
     "name": "stdout",
     "output_type": "stream",
     "text": [
      "['Cantelope', 'Date', 'Banana', 'Apple', 'Pineapple', 'Guava', 'Whiskey', 'Sahara', 'Romeo', 'Uniform']\n"
     ]
    }
   ],
   "source": [
    "## Use extend() to add an element to the start of the array\n",
    "\n",
    "# Creates a new array\n",
    "extendedArray = [\"Cantelope\", \"Date\"]\n",
    "\n",
    "# Adds the previous list to the end of the new array\n",
    "extendedArray.extend(practiceRay)\n",
    "\n",
    "print(extendedArray)"
   ]
  },
  {
   "cell_type": "markdown",
   "metadata": {},
   "source": [
    "#### 1.5 Merging a Sorted Array (LeetCode)"
   ]
  },
  {
   "cell_type": "code",
   "execution_count": 10,
   "metadata": {},
   "outputs": [
    {
     "name": "stdout",
     "output_type": "stream",
     "text": [
      "[1]\n"
     ]
    }
   ],
   "source": [
    "# nums1 = [1, 2, 3, 0, 0, 0]\n",
    "nums1 = [0]\n",
    "m = 0\n",
    "# nums2 = [2, 5, 6]\n",
    "nums2 = [1]\n",
    "n = 1\n",
    "\n",
    "# If m's greater than 0, merge nums1 and nums2\n",
    "if m > 0 and n > 0:\n",
    "\n",
    "    ## enumerate returns index and value with the loop unpacking the index of values that are nonzero\n",
    "    # Output pulls the index and value that is non-zero\n",
    "    # non_zero_indices = [(index, value) for index, value in enumerate(nums1) if value != 0]\n",
    "    \n",
    "    # output pulls the index and non-zero value from the array and creates a 2 x 6 list\n",
    "    # non_zero_indices = [value for value in enumerate(nums1) if value != 0]\n",
    "\n",
    "    # output pulls just the non-zero value from the array\n",
    "    non_zero_num1_indices = [value for value in nums1 if value != 0]\n",
    "    \n",
    "    # Combines both arrays together\n",
    "    merged_indices = non_zero_num1_indices + nums2\n",
    "\n",
    "    # Sorts array in ascending order, remove sort() from code\n",
    "    merged_indices.sort()\n",
    "\n",
    "    # print(non_zero_indices)\n",
    "    print(merged_indices)\n",
    "\n",
    "else:\n",
    "    if m == 0:\n",
    "        nums1 = nums2\n",
    "        print(nums1)    \n",
    "    else:\n",
    "        print(nums1)\n"
   ]
  },
  {
   "cell_type": "markdown",
   "metadata": {},
   "source": [
    "#### Utilize a manual sorting workflow"
   ]
  },
  {
   "cell_type": "code",
   "execution_count": 11,
   "metadata": {},
   "outputs": [
    {
     "name": "stdout",
     "output_type": "stream",
     "text": [
      "[1, 2, 3, 2, 5, 6]\n"
     ]
    }
   ],
   "source": [
    "nums1 = [1, 2, 3, 0, 0, 0]\n",
    "m = 3\n",
    "nums2 = [2, 5, 6]\n",
    "n = 3\n",
    "\n",
    "if m > 0 and n > 0:\n",
    "    # output pulls just the non-zero value from the array\n",
    "    non_zero_num1_indices = [value for value in nums1 if value != 0]\n",
    "    \n",
    "    # Combines both arrays together\n",
    "    merged_indices = non_zero_num1_indices + nums2\n",
    "\n",
    "    # Sorts array in ascending order, remove sort() from code\n",
    "    # iterate through the list\n",
    "    for i in range(0, len(merged_indices)):             # iterate through the list without going out of range\n",
    "        for j in range(i+1, n):                             # iterate through list starting at i+1\n",
    "            if(merged_indices[i]>merged_indices[j]):        # compare the values against one another\n",
    "                store_greater_val = merged_indices[i]       # store greater value in answer\n",
    "                merged_indices[i] = merged_indices[j]       # change the original value in example[i] with its next value\n",
    "                merged_indices[j] = store_greater_val       # store the greater value in example[j] to iteratively compare it against the next example[i]\n",
    "\n",
    "    print(merged_indices)\n",
    "\n",
    "else:\n",
    "    if m == 0:\n",
    "        nums1 = nums2\n",
    "        print(nums1)    \n",
    "    else:\n",
    "        print(nums1)\n",
    "    "
   ]
  },
  {
   "cell_type": "markdown",
   "metadata": {},
   "source": [
    "#### Iterative manual sorting example"
   ]
  },
  {
   "cell_type": "code",
   "execution_count": 12,
   "metadata": {},
   "outputs": [
    {
     "name": "stdout",
     "output_type": "stream",
     "text": [
      "[1, 2, 3, 4, 5, 6]\n"
     ]
    }
   ],
   "source": [
    "example = [1, 2, 3, 4, 5, 6]\n",
    "example = [6, 5, 4, 3, 2, 1]\n",
    "n = len(example)\n",
    "\n",
    "for i in range(0, len(example)):    # iterate through the list without going out of range\n",
    "    for j in range(i+1, n):         # iterate through list starting at i+1\n",
    "        if(example[i]>example[j]):  # compare the values against one another\n",
    "            answer = example[i]     # store greater value in answer\n",
    "            example[i] = example[j] # change the original value in example[i] with its next value\n",
    "            example[j] = answer     # store the greater value in example[j] to iteratively compare it against the next example[i]\n",
    "\n",
    "print(example)\n",
    "\n",
    "\n",
    "# for i, value in enumerate(example):\n",
    "#     ex2[i] = min(example)"
   ]
  },
  {
   "cell_type": "markdown",
   "metadata": {},
   "source": [
    "#### Duplicate Zeros (Leetcode)\n",
    "Solution #1 utilizes the append function"
   ]
  },
  {
   "cell_type": "code",
   "execution_count": 18,
   "metadata": {},
   "outputs": [
    {
     "name": "stdout",
     "output_type": "stream",
     "text": [
      "[1, 2, 3]\n"
     ]
    }
   ],
   "source": [
    "# Count the number of elements/entries in the list called arr. \n",
    "# arr = [1,0,2,3,0,4,5,0]\n",
    "arr= [1,2,3]\n",
    "arr_len = len(arr)\n",
    "\n",
    "# Create a new variable called new_arr that’s going to be the new list where all the future numbers will be.\n",
    "new_arr = []\n",
    "\n",
    "# Check whether any of the elements in the list are equal to zero. Use the following conditions to understand what next steps to take.\n",
    "# Repeat until all the elements/entries in list arr have been evaluated.\n",
    "for i in range(0, arr_len):\n",
    "    \n",
    "    # If the element being evaluated is equal to 0, then 0 should be added as a new entry in the list twice consecutively.\n",
    "    if arr[i] == 0:\n",
    "        new_arr.append(0)\n",
    "        new_arr.append(0)\n",
    "\n",
    "    # If the element being evaluated is not equal to 0, then that value should be inserted as the next value in the new_arr list.\n",
    "    else:\n",
    "        new_arr.append(arr[i])\n",
    "    \n",
    "# Check if the length of new_arr is equal to arr.\n",
    "# If not, then drop all elements at the end of the new_arr list that would make the length of new_arr longer than arr.\n",
    "if len(new_arr) - arr_len != 0:\n",
    "\n",
    "    # If the length of new_arr is equal to arr, then do nothing.\n",
    "    arr_diff = len(new_arr) - arr_len\n",
    "    new_arr = new_arr[:-arr_diff]\n",
    "        \n",
    "\n",
    "print(new_arr)"
   ]
  },
  {
   "cell_type": "code",
   "execution_count": 17,
   "metadata": {},
   "outputs": [
    {
     "name": "stdout",
     "output_type": "stream",
     "text": [
      "[1, 0, 0, 2, 3, 0, 0, 4]\n"
     ]
    }
   ],
   "source": [
    "# Count the number of elements/entries in the list called arr. \n",
    "arr = [1,0,2,3,0,4,5,0]\n",
    "arr_len = len(arr)\n",
    "\n",
    "# Create a new variable called new_arr that’s going to be the new list where all the future numbers will be.\n",
    "new_arr = []\n",
    "\n",
    "# Check whether any of the elements in the list are equal to zero. Use the following conditions to understand what next steps to take.\n",
    "# Repeat until all the elements/entries in list arr have been evaluated.\n",
    "for i in range(0, arr_len):\n",
    "    \n",
    "    # If the element being evaluated is equal to 0, then 0 should be added as a new entry in the list twice consecutively.\n",
    "    if arr[i] == 0:\n",
    "        new_arr.append(0)\n",
    "        new_arr.append(0)\n",
    "\n",
    "    # If the element being evaluated is not equal to 0, then that value should be inserted as the next value in the new_arr list.\n",
    "    else:\n",
    "        new_arr.append(arr[i])\n",
    "    \n",
    "# Check if the length of new_arr is equal to arr.\n",
    "# If not, then drop all elements at the end of the new_arr list that would make the length of new_arr longer than arr.\n",
    "if len(new_arr) - arr_len != 0:\n",
    "\n",
    "    # If the length of new_arr is equal to arr, then do nothing.\n",
    "    arr_diff = len(new_arr) - arr_len\n",
    "    new_arr = new_arr[:-arr_diff]\n",
    "        \n",
    "\n",
    "print(new_arr)"
   ]
  },
  {
   "cell_type": "code",
   "execution_count": 25,
   "metadata": {},
   "outputs": [
    {
     "name": "stdout",
     "output_type": "stream",
     "text": [
      "0\n",
      "[0, 1, 2, 2, 3, 0, 4, 2]\n",
      "1\n",
      "[0, 1, 2, 2, 3, 0, 4, 2]\n",
      "2\n",
      "[0, 1, 2, 3, 0, 4, 2]\n",
      "[0, 1, 2, 3, 0, 4, 2]\n",
      "3\n",
      "[0, 1, 2, 3, 0, 4, 2]\n",
      "0\n",
      "[0, 1, 2, 3, 0, 4, 2]\n",
      "4\n",
      "[0, 1, 2, 3, 0, 4, 2]\n",
      "2\n",
      "[0, 1, 3, 0, 4, 2]\n",
      "[0, 1, 3, 0, 4, 2]\n"
     ]
    }
   ],
   "source": [
    "# The inputs include an int list (nums) and a single int (val). \n",
    "nums = [0,1,2,2,3,0,4,2]\n",
    "val = 2\n",
    "\n",
    "# Remove all occurences of a specific value in the int list. Removed elements don't need to contain a specific value.\n",
    "# Iterate through each of the values in nums\n",
    "for i in nums:\n",
    "    print(i)\n",
    "    # If value in nums == val, remove it from nums array\n",
    "    if val == i:\n",
    "        nums.remove(i)\n",
    "        print(nums)\n",
    "    print(nums)\n",
    "\n",
    "# Output k, which include the number of elements which are not equal to val and new nums\n",
    "len_new_nums = len(nums)\n",
    "\n",
    "# print(f\"{len_new_nums}, nums = {nums}\")\n",
    "\n",
    "# Store the modified array that includes all the ints that don't equal the single int in k."
   ]
  },
  {
   "cell_type": "code",
   "execution_count": null,
   "metadata": {},
   "outputs": [],
   "source": []
  }
 ],
 "metadata": {
  "kernelspec": {
   "display_name": "Python 3",
   "language": "python",
   "name": "python3"
  },
  "language_info": {
   "codemirror_mode": {
    "name": "ipython",
    "version": 3
   },
   "file_extension": ".py",
   "mimetype": "text/x-python",
   "name": "python",
   "nbconvert_exporter": "python",
   "pygments_lexer": "ipython3",
   "version": "3.11.5"
  }
 },
 "nbformat": 4,
 "nbformat_minor": 2
}
