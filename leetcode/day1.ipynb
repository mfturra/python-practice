{
 "cells": [
  {
   "cell_type": "markdown",
   "metadata": {},
   "source": [
    "## Merge Sorted Array"
   ]
  },
  {
   "cell_type": "code",
   "execution_count": null,
   "metadata": {},
   "outputs": [],
   "source": [
    "nums1 = [1, 2, 3, 0, 0, 0]\n",
    "m = 3\n",
    "nums2 = [2, 5, 6]\n",
    "n = 3\n",
    "\n",
    "# check if m is equal or less than 0\n",
    "if m <= 0:\n",
    "    print(f\"Error: m is equal to {m}\")\n",
    "    \n",
    "    # check if n is equal or less than 0\n",
    "    if n <= 0:\n",
    "        print(f\"Neither m or n have values, so nums1 is: {nums1}\")\n",
    "    # else:\n",
    "    #     # output needs to be stored in nums1\n",
    "    #     num1 = nums2\n",
    "\n",
    "        # if m is greater than 0, nums1 should contain only valid values\n",
    "    else:\n",
    "        for i in nums2:\n",
    "            for j in range(n):\n",
    "                nums2(j) = i\n",
    "            print(f\"Current nums1 values are: {nums1}\")\n",
    "        nums2 = nums1\n",
    "\n",
    "        # output final value for developer to view results\n",
    "        print(nums1)\n",
    "\n",
    "# check if n is equal or less than 0\n",
    "if n <= 0:\n",
    "    print(f\"Error: n is equal to {n}\")\n",
    "\n",
    "    # check if m is equal to or less than 0\n",
    "    if m <= 0:\n",
    "        # output results of m & n check\n",
    "        print(f\"Neither m or n have values, so nums1 is: {nums1}\")\n",
    "    # if m is greater than 0, nums1 should contain only valid values\n",
    "    else:\n",
    "        for i in nums1:\n",
    "            for j in range(m):\n",
    "                nums1(j) = i\n",
    "            print(f\"Current nums1 values are: {nums1}\")\n",
    "\n"
   ]
  },
  {
   "cell_type": "markdown",
   "metadata": {},
   "source": [
    "### Remove element (Problem #2)"
   ]
  },
  {
   "cell_type": "code",
   "execution_count": 6,
   "metadata": {},
   "outputs": [
    {
     "name": "stdout",
     "output_type": "stream",
     "text": [
      "Value of k: 2\n"
     ]
    }
   ],
   "source": [
    "from typing import List\n",
    "\n",
    "\n",
    "class Solution:\n",
    "    def removeElement(self, nums: List[int], val: int) -> int:\n",
    "        # two-pointer index counter solution\n",
    "        start = 0\n",
    "\n",
    "        # cycle through all values within range\n",
    "        for i in range(len(nums)):\n",
    "            # check for values that aren't equal to val\n",
    "            if nums[i] != val:\n",
    "                # overwrite the nums[start] value with nums[i]\n",
    "                nums[start] = nums[i]\n",
    "\n",
    "                #iterate over start to evaluate the next value in list\n",
    "                start += 1\n",
    "        return start\n",
    "\n",
    "# input values\n",
    "nums = [3, 2, 2, 3]\n",
    "val = 3\n",
    "\n",
    "# initialize class\n",
    "solution = Solution()\n",
    "\n",
    "# instantiate removeElement method from solution class\n",
    "k = solution.removeElement(nums, val)\n",
    "\n",
    "# output k value\n",
    "print(\"Value of k:\", k)"
   ]
  },
  {
   "cell_type": "code",
   "execution_count": null,
   "metadata": {},
   "outputs": [],
   "source": []
  },
  {
   "cell_type": "markdown",
   "metadata": {},
   "source": [
    "### Merged Sorted Array (Problem #1)"
   ]
  },
  {
   "cell_type": "code",
   "execution_count": 3,
   "metadata": {},
   "outputs": [
    {
     "name": "stdout",
     "output_type": "stream",
     "text": [
      "[1, 2, 2, 3, 5, 6]\n"
     ]
    }
   ],
   "source": [
    "from typing import List\n",
    "\n",
    "# Due to insertion from nums2 to nums1, better to start with empty cells at end of nums1.\n",
    "# Starting from empty cells minimizes overwriting and shifting of values\n",
    "\n",
    "class Solution:\n",
    "    # Respective inputs should be a list of int or int, with the no response output\n",
    "    def merge(self, nums1: List[int], m: int, nums2: List[int], n: int) -> None:\n",
    "        p1 = m - 1 # identify the last index of m\n",
    "        p2 = n - 1 # identify the last index of n\n",
    "        p = m + n - 1 # identify the last possible index of nums1 (5)\n",
    "        \n",
    "        while p1 >= 0 and p2 >= 0: # p1 = 2 and p2 = 2\n",
    "            # nums1 = [1, 2, 3, 0, 0, 6]\n",
    "            #p1 = 1 and p2 = 1, p = 4\n",
    "            \n",
    "            if nums1[p1] > nums2[p2]:\n",
    "                nums1[p] = nums1[p1]\n",
    "                p1 -= 1\n",
    "            else:\n",
    "                nums1[p] = nums2[p2]\n",
    "                p2 -= 1\n",
    "            p -= 1\n",
    "\n",
    "        while p2 >= 0:\n",
    "            nums1[p] = nums2[p2]\n",
    "            p2 -= 1\n",
    "            p -= 1\n",
    "\n",
    "# function execution\n",
    "# inputs\n",
    "nums1 = [1, 2, 3, 0, 0, 0]\n",
    "m = 3\n",
    "nums2 = [2, 5, 6]\n",
    "n = 3\n",
    "\n",
    "merge(nums1, m, nums2, n)\n",
    "print(nums1)\n",
    "\n",
    "# expected output: [1, 2, 2, 3, 5, 6]"
   ]
  }
 ],
 "metadata": {
  "kernelspec": {
   "display_name": "Python 3",
   "language": "python",
   "name": "python3"
  },
  "language_info": {
   "codemirror_mode": {
    "name": "ipython",
    "version": 3
   },
   "file_extension": ".py",
   "mimetype": "text/x-python",
   "name": "python",
   "nbconvert_exporter": "python",
   "pygments_lexer": "ipython3",
   "version": "3.11.5"
  }
 },
 "nbformat": 4,
 "nbformat_minor": 2
}
