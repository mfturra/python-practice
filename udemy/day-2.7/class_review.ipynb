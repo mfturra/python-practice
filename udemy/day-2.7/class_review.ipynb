{
 "cells": [
  {
   "cell_type": "markdown",
   "metadata": {},
   "source": [
    "### Data Types Review"
   ]
  },
  {
   "cell_type": "code",
   "execution_count": 5,
   "metadata": {},
   "outputs": [
    {
     "name": "stdout",
     "output_type": "stream",
     "text": [
      "123456789\n"
     ]
    }
   ],
   "source": [
    "# Data Types\n",
    "print(123_456_789)\n",
    "\n",
    "# Type Casting: Changing var from a var type to another\n",
    "# int()\n",
    "# str()\n",
    "# float(304)\n",
    "# bool(\"True\")"
   ]
  },
  {
   "cell_type": "markdown",
   "metadata": {},
   "source": [
    "### Mathematical Operators Review"
   ]
  },
  {
   "cell_type": "code",
   "execution_count": 20,
   "metadata": {},
   "outputs": [
    {
     "name": "stdout",
     "output_type": "stream",
     "text": [
      "81\n",
      "99\n"
     ]
    }
   ],
   "source": [
    "# Division operator will always result in a float type\n",
    "student_scores = {\n",
    "        \"Harry\": 81,\n",
    "        \"Ron\": 78,\n",
    "        \"Hermione\": 99, \n",
    "        \"Draco\": 74,\n",
    "        \"Neville\": 62,\n",
    "        }\n",
    "\n",
    "for keys in student_scores:\n",
    "        # Scores 90 - 100: Grade = \"Outstanding\"\n",
    "        if student_scores[keys] >= 91:\n",
    "            student_grades[keys] = 'Outstanding'\n",
    "\n",
    "    # if student_scores[key] < 91 and student_scores >= 81:\n",
    "    #     print('Exceeds Expectations') #student_scores ="
   ]
  },
  {
   "cell_type": "markdown",
   "metadata": {},
   "source": [
    "#### Nesting Dictionaries"
   ]
  },
  {
   "cell_type": "code",
   "execution_count": 8,
   "metadata": {},
   "outputs": [],
   "source": [
    "# Nesting Dictionary in a Dictionary\n",
    "orig_travel_log = {\n",
    "    'France': ['Paris', 'Lille', 'Dijon'],\n",
    "    'Germany': ['Berlin', 'Hamburg', 'Stuttgart'],\n",
    "}\n",
    "dict_travel_log = {\n",
    "    'France': {\n",
    "        'cities_visited': ['Paris', 'Lille', 'Dijon', ],\n",
    "        'total_visits': 12\n",
    "    },\n",
    "    'Germany': {\n",
    "        'cities_visited': ['Berlin', 'Hamburg', 'Stuttgart'],\n",
    "        'restaurants_visited': 10,\n",
    "}}\n",
    "\n",
    "# Nesting a Dictionary in a List\n",
    "list_travel_log = [\n",
    "    {\n",
    "        'country': 'France',\n",
    "        'cities_visited': ['Paris', 'Lille', 'Dijon', ],\n",
    "        'total_visits': 12,\n",
    "    },\n",
    "    {\n",
    "        'country': 'Germany',\n",
    "        'cities_visited': ['Berlin', 'Hamburg', 'Stuttgart'],\n",
    "        'restaurants_visited': 10,\n",
    "}]\n",
    "\n"
   ]
  },
  {
   "cell_type": "code",
   "execution_count": 15,
   "metadata": {},
   "outputs": [
    {
     "name": "stdout",
     "output_type": "stream",
     "text": [
      "{'country': ' ', 'visits': ' ', 'cities': ' '}\n"
     ]
    }
   ],
   "source": [
    "brazil_trip = {\n",
    "    'country': ' ',\n",
    "    'visits': ' ',\n",
    "    'cities': ' ',\n",
    "    }\n",
    "\n",
    "list_travel_log.append(brazil_trip)\n",
    "\n",
    "print(list_travel_log[2])\n",
    "\n"
   ]
  },
  {
   "cell_type": "code",
   "execution_count": null,
   "metadata": {},
   "outputs": [],
   "source": []
  }
 ],
 "metadata": {
  "kernelspec": {
   "display_name": "Python 3",
   "language": "python",
   "name": "python3"
  },
  "language_info": {
   "codemirror_mode": {
    "name": "ipython",
    "version": 3
   },
   "file_extension": ".py",
   "mimetype": "text/x-python",
   "name": "python",
   "nbconvert_exporter": "python",
   "pygments_lexer": "ipython3",
   "version": "3.11.5"
  }
 },
 "nbformat": 4,
 "nbformat_minor": 2
}
