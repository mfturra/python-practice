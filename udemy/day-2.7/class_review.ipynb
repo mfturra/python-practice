{
 "cells": [
  {
   "cell_type": "markdown",
   "metadata": {},
   "source": [
    "### Data Types Review"
   ]
  },
  {
   "cell_type": "code",
   "execution_count": 5,
   "metadata": {},
   "outputs": [
    {
     "name": "stdout",
     "output_type": "stream",
     "text": [
      "123456789\n"
     ]
    }
   ],
   "source": [
    "# Data Types\n",
    "print(123_456_789)\n",
    "\n",
    "# Type Casting: Changing var from a var type to another\n",
    "# int()\n",
    "# str()\n",
    "# float(304)\n",
    "# bool(\"True\")"
   ]
  },
  {
   "cell_type": "markdown",
   "metadata": {},
   "source": [
    "### Mathematical Operators Review"
   ]
  },
  {
   "cell_type": "code",
   "execution_count": 19,
   "metadata": {},
   "outputs": [
    {
     "name": "stdout",
     "output_type": "stream",
     "text": [
      "99\n"
     ]
    }
   ],
   "source": [
    "# Division operator will always result in a float type\n",
    "student_scores = {\n",
    "        \"Harry\": 81,\n",
    "        \"Ron\": 78,\n",
    "        \"Hermione\": 99, \n",
    "        \"Draco\": 74,\n",
    "        \"Neville\": 62,\n",
    "        }\n",
    "\n",
    "for key in student_scores:\n",
    "    # print(type(student_scores[key]))\n",
    "    if student_scores[key] == 99:\n",
    "        \n",
    "        print(student_scores[key])\n",
    "\n",
    "    # if student_scores[key] < 91 and student_scores >= 81:\n",
    "    #     print('Exceeds Expectations') #student_scores ="
   ]
  },
  {
   "cell_type": "code",
   "execution_count": null,
   "metadata": {},
   "outputs": [],
   "source": []
  },
  {
   "cell_type": "code",
   "execution_count": null,
   "metadata": {},
   "outputs": [],
   "source": []
  }
 ],
 "metadata": {
  "kernelspec": {
   "display_name": "Python 3",
   "language": "python",
   "name": "python3"
  },
  "language_info": {
   "codemirror_mode": {
    "name": "ipython",
    "version": 3
   },
   "file_extension": ".py",
   "mimetype": "text/x-python",
   "name": "python",
   "nbconvert_exporter": "python",
   "pygments_lexer": "ipython3",
   "version": "3.11.5"
  }
 },
 "nbformat": 4,
 "nbformat_minor": 2
}
